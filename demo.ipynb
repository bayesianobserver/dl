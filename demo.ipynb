{
 "cells": [
  {
   "cell_type": "code",
   "execution_count": 1,
   "metadata": {},
   "outputs": [],
   "source": [
    "import torch\n",
    "from torch.utils.data import Dataset\n",
    "from torch.utils.data.dataloader import DataLoader\n",
    "from utils import set_seed\n",
    "import sys\n",
    "set_seed(3407)\n",
    "import pylab as plt\n",
    "import pandas as pd"
   ]
  },
  {
   "cell_type": "code",
   "execution_count": 2,
   "metadata": {},
   "outputs": [
    {
     "name": "stderr",
     "output_type": "stream",
     "text": [
      "2024-04-29 16:26:18.130153: I tensorflow/core/platform/cpu_feature_guard.cc:193] This TensorFlow binary is optimized with oneAPI Deep Neural Network Library (oneDNN) to use the following CPU instructions in performance-critical operations:  AVX2 FMA\n",
      "To enable them in other operations, rebuild TensorFlow with the appropriate compiler flags.\n",
      "2024-04-29 16:26:18.301018: W tensorflow/compiler/xla/stream_executor/platform/default/dso_loader.cc:64] Could not load dynamic library 'libcudart.so.11.0'; dlerror: libcudart.so.11.0: cannot open shared object file: No such file or directory\n",
      "2024-04-29 16:26:18.301038: I tensorflow/compiler/xla/stream_executor/cuda/cudart_stub.cc:29] Ignore above cudart dlerror if you do not have a GPU set up on your machine.\n",
      "2024-04-29 16:26:18.922555: W tensorflow/compiler/xla/stream_executor/platform/default/dso_loader.cc:64] Could not load dynamic library 'libnvinfer.so.7'; dlerror: libnvinfer.so.7: cannot open shared object file: No such file or directory\n",
      "2024-04-29 16:26:18.922612: W tensorflow/compiler/xla/stream_executor/platform/default/dso_loader.cc:64] Could not load dynamic library 'libnvinfer_plugin.so.7'; dlerror: libnvinfer_plugin.so.7: cannot open shared object file: No such file or directory\n",
      "2024-04-29 16:26:18.922619: W tensorflow/compiler/tf2tensorrt/utils/py_utils.cc:38] TF-TRT Warning: Cannot dlopen some TensorRT libraries. If you would like to use Nvidia GPU with TensorRT, please make sure the missing libraries mentioned above are installed properly.\n"
     ]
    }
   ],
   "source": [
    "import torch\n",
    "from torch.utils.tensorboard import SummaryWriter\n",
    "writer = SummaryWriter()"
   ]
  },
  {
   "cell_type": "code",
   "execution_count": 3,
   "metadata": {},
   "outputs": [],
   "source": [
    "import pickle\n",
    "\n",
    "class TabularRegressionData(Dataset):\n",
    "    \"\"\" \n",
    "    Simple tabular data with 5 numerical features and 1 numerical response. \n",
    "    \"\"\"\n",
    "\n",
    "    def __init__(self, split, dimensions = 5):\n",
    "        assert split in {'train', 'test'}\n",
    "        self.split = split\n",
    "        self.dimensions = dimensions\n",
    "        \n",
    "    def __len__(self):\n",
    "        return 10000 # ...\n",
    "    \n",
    "    def __getitem__(self, idx):\n",
    "        x = torch.randn(5)\n",
    "        y = -3.15 + x[0] + (2 * x[2] * x[3]) - 3 * (x[4]**3)\n",
    "        x, y\n",
    "        return x, y\n"
   ]
  },
  {
   "cell_type": "code",
   "execution_count": 4,
   "metadata": {},
   "outputs": [],
   "source": [
    "class CSVLoader(Dataset):\n",
    "    def __init__(self, file_path, feature_cols, target_col, dimensions = 5):\n",
    "        \"\"\"\n",
    "        Args:\n",
    "            file_path (str): Path to the CSV file.\n",
    "            feature_cols (list of str): List of column names to be used as features.\n",
    "            target_col (str): Column name of the target variable.\n",
    "            transform (callable, optional): Optional transform to be applied on a sample.\n",
    "        \"\"\"\n",
    "        self.data_frame = pd.read_csv(file_path)\n",
    "        self.feature_cols = feature_cols\n",
    "        self.target_col = target_col\n",
    "        self.dimensions = dimensions\n",
    "        \n",
    "    def __len__(self):\n",
    "        return len(self.data_frame)\n",
    "\n",
    "    def __getitem__(self, idx):\n",
    "        if torch.is_tensor(idx):\n",
    "            idx = idx.tolist()\n",
    "        features = torch.tensor(self.data_frame.loc[idx, self.feature_cols].values.astype('float32'))\n",
    "        target = torch.tensor(self.data_frame.loc[idx, self.target_col], dtype = torch.float32)\n",
    "        return features, target\n",
    "\n"
   ]
  },
  {
   "cell_type": "code",
   "execution_count": 5,
   "metadata": {},
   "outputs": [
    {
     "name": "stdout",
     "output_type": "stream",
     "text": [
      "tensor([ 1.0971,  0.5328, -0.3311, -0.4458,  0.6679]) tensor(-2.6515)\n",
      "tensor([ 0.7001, -0.8284,  2.1086, -1.0221, -1.3357]) tensor(0.3886)\n"
     ]
    }
   ],
   "source": [
    "# print an example instance of the dataset\n",
    "train_dataset = TabularRegressionData('train')\n",
    "# train_dataset = CSVLoader(\n",
    "#         file_path='/home/suhas/research/dl/training_data.txt',  # Specify your CSV file path here\n",
    "#         feature_cols=['x0','x1','x2','x3','x4'],  # Specify the feature column names\n",
    "#         target_col='y'  # Specify the target column name\n",
    "#     )\n",
    "\n",
    "test_dataset = TabularRegressionData('test')\n",
    "x, y = train_dataset[0]\n",
    "print(x, y)\n",
    "x1, y1 = test_dataset[0]\n",
    "print(x1, y1)\n"
   ]
  },
  {
   "cell_type": "code",
   "execution_count": 6,
   "metadata": {},
   "outputs": [
    {
     "data": {
      "text/plain": [
       "(10000, 10000)"
      ]
     },
     "execution_count": 6,
     "metadata": {},
     "output_type": "execute_result"
    }
   ],
   "source": [
    "len(train_dataset), len(test_dataset)"
   ]
  },
  {
   "cell_type": "code",
   "execution_count": 7,
   "metadata": {},
   "outputs": [
    {
     "data": {
      "text/plain": [
       "(48, 48)"
      ]
     },
     "execution_count": 7,
     "metadata": {},
     "output_type": "execute_result"
    }
   ],
   "source": [
    "sys.getsizeof(train_dataset), sys.getsizeof(test_dataset)"
   ]
  },
  {
   "cell_type": "code",
   "execution_count": 8,
   "metadata": {},
   "outputs": [
    {
     "data": {
      "text/plain": [
       "(torch.float32, torch.float32, torch.float32, torch.float32)"
      ]
     },
     "execution_count": 8,
     "metadata": {},
     "output_type": "execute_result"
    }
   ],
   "source": [
    "x1.dtype, x.dtype, y1.dtype, y.dtype"
   ]
  },
  {
   "cell_type": "code",
   "execution_count": 9,
   "metadata": {},
   "outputs": [],
   "source": [
    "# create a GPT instance\n",
    "from model_ff import ffmodel\n",
    "\n",
    "model_config = ffmodel.get_default_config()\n",
    "model_config.input_size = 5\n",
    "model_config.use_dropout = True\n",
    "model_config.p_drop = 0.1\n",
    "model = ffmodel(model_config)"
   ]
  },
  {
   "cell_type": "code",
   "execution_count": 16,
   "metadata": {},
   "outputs": [
    {
     "name": "stdout",
     "output_type": "stream",
     "text": [
      "running on device cpu\n"
     ]
    }
   ],
   "source": [
    "# create a Trainer object\n",
    "from trainer import Trainer\n",
    "\n",
    "train_config = Trainer.get_default_config()\n",
    "train_config.learning_rate = 3e-4 # the model we're using is so small that we can go a bit faster\n",
    "train_config.max_iters = 20000\n",
    "train_config.num_workers = 0\n",
    "train_config.batch_size = 100\n",
    "train_config.eval_iters = 100\n",
    "train_config.resume = False\n",
    "train_config.checkpoint_path = '/home/suhas/research/dl/checkpoints/'\n",
    "trainer = Trainer(train_config, model, train_dataset, test_dataset)"
   ]
  },
  {
   "cell_type": "code",
   "execution_count": 17,
   "metadata": {},
   "outputs": [],
   "source": [
    "# def batch_end_callback(trainer):\n",
    "#     if trainer.iter_num % 100 == 0:\n",
    "#         print(f\"iter_dt {trainer.iter_dt * 1000:.2f}ms; iter {trainer.iter_num}: train loss {trainer.loss.item():.5f}\")\n",
    "        \n",
    "# #trainer.set_callback('on_batch_end', batch_end_callback)"
   ]
  },
  {
   "cell_type": "code",
   "execution_count": 18,
   "metadata": {},
   "outputs": [
    {
     "name": "stdout",
     "output_type": "stream",
     "text": [
      "iter_num 100  train_loss: 3.8483522 , test_loss:  7.1523066 , last batch loss: 34.619606018066406\n",
      "iter_num 200  train_loss: 5.433134 , test_loss:  5.228894 , last batch loss: 13.437788009643555\n",
      "iter_num 300  train_loss: 4.8663554 , test_loss:  4.7149816 , last batch loss: 20.880691528320312\n",
      "iter_num 400  train_loss: 3.9033985 , test_loss:  3.9663825 , last batch loss: 4.146780014038086\n",
      "iter_num 500  train_loss: 3.8427863 , test_loss:  4.1897426 , last batch loss: 23.285707473754883\n",
      "Directory already exists at /home/suhas/research/dl/checkpoints/\n",
      "Checkpoint saved at iter 500\n",
      "iter_num 600  train_loss: 3.8475533 , test_loss:  6.1555457 , last batch loss: 13.346426963806152\n",
      "iter_num 700  train_loss: 4.7635155 , test_loss:  4.0888324 , last batch loss: 43.64289855957031\n",
      "iter_num 800  train_loss: 5.830575 , test_loss:  3.4013147 , last batch loss: 35.12480926513672\n",
      "iter_num 900  train_loss: 4.483285 , test_loss:  3.8257618 , last batch loss: 6.0132036209106445\n",
      "iter_num 1000  train_loss: 3.6662984 , test_loss:  4.8361053 , last batch loss: 13.331320762634277\n",
      "Directory already exists at /home/suhas/research/dl/checkpoints/\n",
      "Checkpoint saved at iter 1000\n",
      "iter_num 1100  train_loss: 9.658535 , test_loss:  5.431296 , last batch loss: 10.15257740020752\n",
      "iter_num 1200  train_loss: 4.527449 , test_loss:  4.944501 , last batch loss: 14.349470138549805\n",
      "iter_num 1300  train_loss: 3.2054548 , test_loss:  5.5101366 , last batch loss: 3.9915688037872314\n",
      "iter_num 1400  train_loss: 4.7807484 , test_loss:  3.7353125 , last batch loss: 7.3278021812438965\n",
      "iter_num 1500  train_loss: 4.2964954 , test_loss:  3.999917 , last batch loss: 6.931839466094971\n",
      "Directory already exists at /home/suhas/research/dl/checkpoints/\n",
      "Checkpoint saved at iter 1500\n",
      "iter_num 1600  train_loss: 5.9429817 , test_loss:  4.377239 , last batch loss: 9.955795288085938\n",
      "iter_num 1700  train_loss: 4.7464633 , test_loss:  5.7730713 , last batch loss: 43.020103454589844\n",
      "iter_num 1800  train_loss: 5.3485427 , test_loss:  7.1181417 , last batch loss: 8.55248737335205\n",
      "iter_num 1900  train_loss: 4.7727127 , test_loss:  5.1583776 , last batch loss: 11.501690864562988\n",
      "iter_num 2000  train_loss: 5.2399487 , test_loss:  4.295383 , last batch loss: 10.5923433303833\n",
      "Directory already exists at /home/suhas/research/dl/checkpoints/\n",
      "Checkpoint saved at iter 2000\n",
      "iter_num 2100  train_loss: 5.928146 , test_loss:  4.2467437 , last batch loss: 4.599635124206543\n",
      "iter_num 2200  train_loss: 5.477657 , test_loss:  9.531404 , last batch loss: 7.7337422370910645\n",
      "iter_num 2300  train_loss: 3.0805275 , test_loss:  4.5700264 , last batch loss: 6.4947190284729\n",
      "iter_num 2400  train_loss: 8.099026 , test_loss:  5.324149 , last batch loss: 63.38887023925781\n",
      "iter_num 2500  train_loss: 3.6430087 , test_loss:  4.1195836 , last batch loss: 4.213687896728516\n",
      "Directory already exists at /home/suhas/research/dl/checkpoints/\n",
      "Checkpoint saved at iter 2500\n",
      "iter_num 2600  train_loss: 6.4083214 , test_loss:  4.1175747 , last batch loss: 5.3635029792785645\n",
      "iter_num 2700  train_loss: 3.35508 , test_loss:  4.098579 , last batch loss: 6.452571392059326\n",
      "iter_num 2800  train_loss: 4.528727 , test_loss:  4.2585683 , last batch loss: 14.396224021911621\n",
      "iter_num 2900  train_loss: 3.83135 , test_loss:  4.9428244 , last batch loss: 8.103160858154297\n",
      "iter_num 3000  train_loss: 3.7326188 , test_loss:  2.6631968 , last batch loss: 23.164993286132812\n",
      "Directory already exists at /home/suhas/research/dl/checkpoints/\n",
      "Checkpoint saved at iter 3000\n",
      "iter_num 3100  train_loss: 3.7259932 , test_loss:  3.273978 , last batch loss: 2.965017318725586\n",
      "iter_num 3200  train_loss: 3.0652351 , test_loss:  3.195175 , last batch loss: 2.433173894882202\n",
      "iter_num 3300  train_loss: 7.042173 , test_loss:  4.7291884 , last batch loss: 30.314363479614258\n",
      "iter_num 3400  train_loss: 4.309309 , test_loss:  3.609729 , last batch loss: 18.922378540039062\n",
      "iter_num 3500  train_loss: 3.9266582 , test_loss:  2.988952 , last batch loss: 8.419953346252441\n",
      "Directory already exists at /home/suhas/research/dl/checkpoints/\n",
      "Checkpoint saved at iter 3500\n",
      "iter_num 3600  train_loss: 4.6169753 , test_loss:  5.7743115 , last batch loss: 10.110642433166504\n",
      "iter_num 3700  train_loss: 3.0507264 , test_loss:  6.6129766 , last batch loss: 9.295044898986816\n",
      "iter_num 3800  train_loss: 4.2998714 , test_loss:  3.502307 , last batch loss: 13.976336479187012\n",
      "iter_num 3900  train_loss: 9.943531 , test_loss:  9.509 , last batch loss: 5.8530778884887695\n",
      "iter_num 4000  train_loss: 4.2035503 , test_loss:  4.9869065 , last batch loss: 28.346590042114258\n",
      "Directory already exists at /home/suhas/research/dl/checkpoints/\n",
      "Checkpoint saved at iter 4000\n",
      "iter_num 4100  train_loss: 6.852704 , test_loss:  3.9690015 , last batch loss: 4.016809940338135\n",
      "iter_num 4200  train_loss: 3.8328128 , test_loss:  2.843785 , last batch loss: 49.89395523071289\n",
      "iter_num 4300  train_loss: 3.3676414 , test_loss:  6.9922194 , last batch loss: 8.49370002746582\n",
      "iter_num 4400  train_loss: 3.5319216 , test_loss:  4.255143 , last batch loss: 6.848403453826904\n",
      "iter_num 4500  train_loss: 7.462047 , test_loss:  4.333339 , last batch loss: 7.166478157043457\n",
      "Directory already exists at /home/suhas/research/dl/checkpoints/\n",
      "Checkpoint saved at iter 4500\n",
      "iter_num 4600  train_loss: 3.3287988 , test_loss:  4.7631564 , last batch loss: 11.264934539794922\n",
      "iter_num 4700  train_loss: 4.9338317 , test_loss:  5.0171647 , last batch loss: 7.205776214599609\n",
      "iter_num 4800  train_loss: 2.8596013 , test_loss:  3.4023044 , last batch loss: 5.689627647399902\n",
      "iter_num 4900  train_loss: 4.9851804 , test_loss:  4.254018 , last batch loss: 5.144596099853516\n",
      "iter_num 5000  train_loss: 2.6985183 , test_loss:  4.9207063 , last batch loss: 24.657398223876953\n",
      "Directory already exists at /home/suhas/research/dl/checkpoints/\n",
      "Checkpoint saved at iter 5000\n",
      "iter_num 5100  train_loss: 3.5032127 , test_loss:  4.7598557 , last batch loss: 8.614662170410156\n",
      "iter_num 5200  train_loss: 5.7032886 , test_loss:  3.5520236 , last batch loss: 12.057697296142578\n",
      "iter_num 5300  train_loss: 4.2944164 , test_loss:  3.4216285 , last batch loss: 19.111377716064453\n",
      "iter_num 5400  train_loss: 3.4802887 , test_loss:  3.7322628 , last batch loss: 55.435028076171875\n",
      "iter_num 5500  train_loss: 3.162964 , test_loss:  5.702667 , last batch loss: 5.959603786468506\n",
      "Directory already exists at /home/suhas/research/dl/checkpoints/\n",
      "Checkpoint saved at iter 5500\n",
      "iter_num 5600  train_loss: 4.5264287 , test_loss:  2.9117868 , last batch loss: 5.605351448059082\n",
      "iter_num 5700  train_loss: 3.9629178 , test_loss:  2.5818076 , last batch loss: 13.824197769165039\n",
      "iter_num 5800  train_loss: 4.442451 , test_loss:  3.648152 , last batch loss: 32.1061897277832\n",
      "iter_num 5900  train_loss: 4.7526965 , test_loss:  3.3553872 , last batch loss: 42.13197326660156\n",
      "iter_num 6000  train_loss: 5.4509087 , test_loss:  6.054804 , last batch loss: 6.1356329917907715\n",
      "Directory already exists at /home/suhas/research/dl/checkpoints/\n",
      "Checkpoint saved at iter 6000\n",
      "iter_num 6100  train_loss: 3.9916308 , test_loss:  3.1612806 , last batch loss: 3.9539096355438232\n",
      "iter_num 6200  train_loss: 2.5220923 , test_loss:  3.500199 , last batch loss: 107.4338607788086\n",
      "iter_num 6300  train_loss: 4.846267 , test_loss:  5.091476 , last batch loss: 20.032867431640625\n",
      "iter_num 6400  train_loss: 6.7451973 , test_loss:  3.658869 , last batch loss: 5.032576084136963\n",
      "iter_num 6500  train_loss: 3.7671778 , test_loss:  4.330795 , last batch loss: 5.817221641540527\n",
      "Directory already exists at /home/suhas/research/dl/checkpoints/\n",
      "Checkpoint saved at iter 6500\n",
      "iter_num 6600  train_loss: 5.4238377 , test_loss:  5.791168 , last batch loss: 5.241951942443848\n",
      "iter_num 6700  train_loss: 3.1511285 , test_loss:  6.1416063 , last batch loss: 10.39666748046875\n",
      "iter_num 6800  train_loss: 3.948346 , test_loss:  7.481988 , last batch loss: 4.7473273277282715\n",
      "iter_num 6900  train_loss: 2.8960786 , test_loss:  6.225338 , last batch loss: 5.959155082702637\n",
      "iter_num 7000  train_loss: 3.9326763 , test_loss:  2.6731646 , last batch loss: 5.15097713470459\n",
      "Directory already exists at /home/suhas/research/dl/checkpoints/\n",
      "Checkpoint saved at iter 7000\n",
      "iter_num 7100  train_loss: 3.8988755 , test_loss:  5.1538143 , last batch loss: 6.989587783813477\n",
      "iter_num 7200  train_loss: 2.7265148 , test_loss:  6.1718845 , last batch loss: 66.10631561279297\n",
      "iter_num 7300  train_loss: 4.160015 , test_loss:  3.9484992 , last batch loss: 11.318746566772461\n",
      "iter_num 7400  train_loss: 3.1575274 , test_loss:  2.375961 , last batch loss: 12.83804702758789\n",
      "iter_num 7500  train_loss: 4.922661 , test_loss:  2.7732687 , last batch loss: 20.476686477661133\n",
      "Directory already exists at /home/suhas/research/dl/checkpoints/\n",
      "Checkpoint saved at iter 7500\n",
      "iter_num 7600  train_loss: 3.2894123 , test_loss:  3.8150907 , last batch loss: 5.4358415603637695\n",
      "iter_num 7700  train_loss: 2.7064953 , test_loss:  3.9657764 , last batch loss: 18.053775787353516\n",
      "iter_num 7800  train_loss: 6.2895064 , test_loss:  4.192479 , last batch loss: 5.117039680480957\n",
      "iter_num 7900  train_loss: 4.378285 , test_loss:  3.4726334 , last batch loss: 3.3524181842803955\n",
      "iter_num 8000  train_loss: 3.3188937 , test_loss:  5.7229023 , last batch loss: 46.334842681884766\n",
      "Directory already exists at /home/suhas/research/dl/checkpoints/\n",
      "Checkpoint saved at iter 8000\n",
      "iter_num 8100  train_loss: 3.8036401 , test_loss:  6.342233 , last batch loss: 3.511617422103882\n",
      "iter_num 8200  train_loss: 3.0990412 , test_loss:  3.957371 , last batch loss: 16.69622230529785\n",
      "iter_num 8300  train_loss: 3.9269152 , test_loss:  2.496659 , last batch loss: 8.003634452819824\n",
      "iter_num 8400  train_loss: 4.478178 , test_loss:  5.868875 , last batch loss: 5.667065620422363\n",
      "iter_num 8500  train_loss: 3.1421998 , test_loss:  4.3635464 , last batch loss: 10.1284761428833\n",
      "Directory already exists at /home/suhas/research/dl/checkpoints/\n",
      "Checkpoint saved at iter 8500\n",
      "iter_num 8600  train_loss: 3.7070277 , test_loss:  3.6417403 , last batch loss: 2.7903969287872314\n",
      "iter_num 8700  train_loss: 3.8287928 , test_loss:  3.4925573 , last batch loss: 9.403531074523926\n",
      "iter_num 8800  train_loss: 3.249365 , test_loss:  4.0689507 , last batch loss: 3.4234566688537598\n",
      "iter_num 8900  train_loss: 2.4927611 , test_loss:  3.281495 , last batch loss: 11.172280311584473\n",
      "iter_num 9000  train_loss: 2.6652343 , test_loss:  3.6847043 , last batch loss: 9.605188369750977\n",
      "Directory already exists at /home/suhas/research/dl/checkpoints/\n",
      "Checkpoint saved at iter 9000\n",
      "iter_num 9100  train_loss: 3.9213233 , test_loss:  4.3645325 , last batch loss: 9.894159317016602\n",
      "iter_num 9200  train_loss: 4.5159645 , test_loss:  3.6232107 , last batch loss: 6.665455341339111\n",
      "iter_num 9300  train_loss: 4.0482807 , test_loss:  3.7939365 , last batch loss: 13.635379791259766\n",
      "iter_num 9400  train_loss: 3.3292058 , test_loss:  2.8963969 , last batch loss: 13.288331031799316\n",
      "iter_num 9500  train_loss: 2.6193938 , test_loss:  4.3950095 , last batch loss: 6.2524094581604\n",
      "Directory already exists at /home/suhas/research/dl/checkpoints/\n",
      "Checkpoint saved at iter 9500\n",
      "iter_num 9600  train_loss: 3.7358012 , test_loss:  5.564553 , last batch loss: 24.56633949279785\n",
      "iter_num 9700  train_loss: 3.336758 , test_loss:  3.5768757 , last batch loss: 8.989806175231934\n",
      "iter_num 9800  train_loss: 5.507775 , test_loss:  6.989504 , last batch loss: 6.825855255126953\n",
      "iter_num 9900  train_loss: 3.3402536 , test_loss:  6.9455857 , last batch loss: 4.3420891761779785\n",
      "iter_num 10000  train_loss: 2.7972553 , test_loss:  4.5429044 , last batch loss: 8.895186424255371\n",
      "Directory already exists at /home/suhas/research/dl/checkpoints/\n",
      "Checkpoint saved at iter 10000\n",
      "iter_num 10100  train_loss: 3.6344578 , test_loss:  3.0724509 , last batch loss: 5.288644313812256\n",
      "iter_num 10200  train_loss: 6.1949787 , test_loss:  3.1111143 , last batch loss: 6.348034858703613\n",
      "iter_num 10300  train_loss: 4.353495 , test_loss:  5.454041 , last batch loss: 7.531226634979248\n",
      "iter_num 10400  train_loss: 4.7643285 , test_loss:  3.2268157 , last batch loss: 4.291707992553711\n",
      "iter_num 10500  train_loss: 4.068542 , test_loss:  3.867973 , last batch loss: 3.5856659412384033\n",
      "Directory already exists at /home/suhas/research/dl/checkpoints/\n",
      "Checkpoint saved at iter 10500\n",
      "iter_num 10600  train_loss: 2.8093188 , test_loss:  6.6177154 , last batch loss: 10.255183219909668\n",
      "iter_num 10700  train_loss: 3.5993855 , test_loss:  3.1297388 , last batch loss: 10.5918607711792\n",
      "iter_num 10800  train_loss: 5.2924237 , test_loss:  3.1315012 , last batch loss: 35.47874450683594\n",
      "iter_num 10900  train_loss: 2.7196376 , test_loss:  5.058058 , last batch loss: 5.470321178436279\n",
      "iter_num 11000  train_loss: 3.5215065 , test_loss:  3.1666346 , last batch loss: 8.078923225402832\n",
      "Directory already exists at /home/suhas/research/dl/checkpoints/\n",
      "Checkpoint saved at iter 11000\n",
      "iter_num 11100  train_loss: 3.029364 , test_loss:  4.862706 , last batch loss: 4.909361362457275\n",
      "iter_num 11200  train_loss: 2.2620583 , test_loss:  4.074604 , last batch loss: 24.510149002075195\n",
      "iter_num 11300  train_loss: 4.2688546 , test_loss:  2.5773175 , last batch loss: 8.320572853088379\n",
      "iter_num 11400  train_loss: 3.8149529 , test_loss:  4.916033 , last batch loss: 4.023149013519287\n",
      "iter_num 11500  train_loss: 5.57821 , test_loss:  3.6308353 , last batch loss: 19.931730270385742\n",
      "Directory already exists at /home/suhas/research/dl/checkpoints/\n",
      "Checkpoint saved at iter 11500\n",
      "iter_num 11600  train_loss: 3.5731025 , test_loss:  2.456948 , last batch loss: 4.935624599456787\n",
      "iter_num 11700  train_loss: 3.607181 , test_loss:  4.749079 , last batch loss: 6.751217842102051\n",
      "iter_num 11800  train_loss: 6.4641676 , test_loss:  3.3969226 , last batch loss: 14.229284286499023\n",
      "iter_num 11900  train_loss: 4.739565 , test_loss:  4.607485 , last batch loss: 10.431541442871094\n",
      "iter_num 12000  train_loss: 4.8940377 , test_loss:  4.859536 , last batch loss: 3.6885921955108643\n",
      "Directory already exists at /home/suhas/research/dl/checkpoints/\n",
      "Checkpoint saved at iter 12000\n",
      "iter_num 12100  train_loss: 3.455415 , test_loss:  3.595649 , last batch loss: 3.7178444862365723\n",
      "iter_num 12200  train_loss: 2.921732 , test_loss:  3.046147 , last batch loss: 6.330795764923096\n",
      "iter_num 12300  train_loss: 7.181866 , test_loss:  3.1845548 , last batch loss: 28.716350555419922\n",
      "iter_num 12400  train_loss: 3.54541 , test_loss:  3.6303759 , last batch loss: 60.80360412597656\n",
      "iter_num 12500  train_loss: 3.2938194 , test_loss:  4.4508877 , last batch loss: 1.9745944738388062\n",
      "Directory already exists at /home/suhas/research/dl/checkpoints/\n",
      "Checkpoint saved at iter 12500\n",
      "iter_num 12600  train_loss: 3.867266 , test_loss:  3.9114742 , last batch loss: 4.20776891708374\n",
      "iter_num 12700  train_loss: 4.7046328 , test_loss:  9.069771 , last batch loss: 10.837316513061523\n",
      "iter_num 12800  train_loss: 5.4703283 , test_loss:  4.7592645 , last batch loss: 4.7134575843811035\n",
      "iter_num 12900  train_loss: 3.61811 , test_loss:  2.906024 , last batch loss: 22.730453491210938\n",
      "iter_num 13000  train_loss: 4.5540276 , test_loss:  3.186711 , last batch loss: 54.0693359375\n",
      "Directory already exists at /home/suhas/research/dl/checkpoints/\n",
      "Checkpoint saved at iter 13000\n",
      "iter_num 13100  train_loss: 3.220662 , test_loss:  5.0649376 , last batch loss: 9.403451919555664\n",
      "iter_num 13200  train_loss: 2.3782175 , test_loss:  3.770386 , last batch loss: 10.77177619934082\n",
      "iter_num 13300  train_loss: 2.6006737 , test_loss:  4.345936 , last batch loss: 3.829991340637207\n",
      "iter_num 13400  train_loss: 4.3645144 , test_loss:  4.085679 , last batch loss: 5.124057769775391\n",
      "iter_num 13500  train_loss: 3.0451424 , test_loss:  3.2979798 , last batch loss: 6.430864334106445\n",
      "Directory already exists at /home/suhas/research/dl/checkpoints/\n",
      "Checkpoint saved at iter 13500\n",
      "iter_num 13600  train_loss: 3.3086426 , test_loss:  2.754749 , last batch loss: 38.27191162109375\n",
      "iter_num 13700  train_loss: 4.6194053 , test_loss:  4.2953386 , last batch loss: 3.043933629989624\n",
      "iter_num 13800  train_loss: 2.4664297 , test_loss:  6.23276 , last batch loss: 9.033639907836914\n",
      "iter_num 13900  train_loss: 2.5828118 , test_loss:  5.6479936 , last batch loss: 3.8837544918060303\n",
      "iter_num 14000  train_loss: 4.2570453 , test_loss:  5.527038 , last batch loss: 40.583621978759766\n",
      "Directory already exists at /home/suhas/research/dl/checkpoints/\n",
      "Checkpoint saved at iter 14000\n",
      "iter_num 14100  train_loss: 2.914618 , test_loss:  4.382482 , last batch loss: 15.5811128616333\n",
      "iter_num 14200  train_loss: 6.629806 , test_loss:  5.1893764 , last batch loss: 4.826608180999756\n",
      "iter_num 14300  train_loss: 2.5089657 , test_loss:  3.139132 , last batch loss: 7.727407932281494\n",
      "iter_num 14400  train_loss: 2.8735397 , test_loss:  2.821311 , last batch loss: 5.613789081573486\n",
      "iter_num 14500  train_loss: 3.7890475 , test_loss:  2.365042 , last batch loss: 3.2501235008239746\n",
      "Directory already exists at /home/suhas/research/dl/checkpoints/\n",
      "Checkpoint saved at iter 14500\n",
      "iter_num 14600  train_loss: 3.7767682 , test_loss:  2.7103035 , last batch loss: 9.53398609161377\n",
      "iter_num 14700  train_loss: 3.7704396 , test_loss:  1.9900758 , last batch loss: 19.587736129760742\n",
      "iter_num 14800  train_loss: 2.502022 , test_loss:  5.7029796 , last batch loss: 4.221905708312988\n",
      "iter_num 14900  train_loss: 2.8926876 , test_loss:  2.6725357 , last batch loss: 3.5888564586639404\n",
      "iter_num 15000  train_loss: 3.4364574 , test_loss:  2.6028059 , last batch loss: 12.70629596710205\n",
      "Directory already exists at /home/suhas/research/dl/checkpoints/\n",
      "Checkpoint saved at iter 15000\n",
      "iter_num 15100  train_loss: 6.054322 , test_loss:  3.4443755 , last batch loss: 3.192021369934082\n",
      "iter_num 15200  train_loss: 3.3949394 , test_loss:  3.7332084 , last batch loss: 3.9540843963623047\n",
      "iter_num 15300  train_loss: 4.8121614 , test_loss:  5.529445 , last batch loss: 4.802323818206787\n",
      "iter_num 15400  train_loss: 3.1472998 , test_loss:  3.620584 , last batch loss: 4.029923915863037\n",
      "iter_num 15500  train_loss: 2.6693492 , test_loss:  2.823696 , last batch loss: 40.321556091308594\n",
      "Directory already exists at /home/suhas/research/dl/checkpoints/\n",
      "Checkpoint saved at iter 15500\n",
      "iter_num 15600  train_loss: 4.940263 , test_loss:  4.9602637 , last batch loss: 5.578899383544922\n",
      "iter_num 15700  train_loss: 4.6989884 , test_loss:  5.8710527 , last batch loss: 16.8662052154541\n",
      "iter_num 15800  train_loss: 4.331842 , test_loss:  3.935642 , last batch loss: 9.19058895111084\n",
      "iter_num 15900  train_loss: 7.810612 , test_loss:  3.3401206 , last batch loss: 3.9127695560455322\n",
      "iter_num 16000  train_loss: 5.1630297 , test_loss:  3.9739256 , last batch loss: 10.551852226257324\n",
      "Directory already exists at /home/suhas/research/dl/checkpoints/\n",
      "Checkpoint saved at iter 16000\n",
      "iter_num 16100  train_loss: 3.26651 , test_loss:  4.4504375 , last batch loss: 14.12666130065918\n",
      "iter_num 16200  train_loss: 4.3762345 , test_loss:  4.576521 , last batch loss: 9.641156196594238\n",
      "iter_num 16300  train_loss: 3.113974 , test_loss:  4.466452 , last batch loss: 4.989238262176514\n",
      "iter_num 16400  train_loss: 3.333075 , test_loss:  3.94489 , last batch loss: 2.8565239906311035\n",
      "iter_num 16500  train_loss: 3.5472012 , test_loss:  4.0589867 , last batch loss: 4.299394130706787\n",
      "Directory already exists at /home/suhas/research/dl/checkpoints/\n",
      "Checkpoint saved at iter 16500\n",
      "iter_num 16600  train_loss: 3.0665634 , test_loss:  3.4104953 , last batch loss: 20.235496520996094\n",
      "iter_num 16700  train_loss: 6.2946 , test_loss:  4.1024547 , last batch loss: 26.7891902923584\n",
      "iter_num 16800  train_loss: 4.1115375 , test_loss:  8.191706 , last batch loss: 6.142536640167236\n",
      "iter_num 16900  train_loss: 3.8248413 , test_loss:  2.8807461 , last batch loss: 7.204668998718262\n",
      "iter_num 17000  train_loss: 3.0768352 , test_loss:  4.9878063 , last batch loss: 2.6778459548950195\n",
      "Directory already exists at /home/suhas/research/dl/checkpoints/\n",
      "Checkpoint saved at iter 17000\n",
      "iter_num 17100  train_loss: 3.591422 , test_loss:  4.818292 , last batch loss: 5.8213582038879395\n",
      "iter_num 17200  train_loss: 7.696316 , test_loss:  2.9508896 , last batch loss: 8.553410530090332\n",
      "iter_num 17300  train_loss: 4.0237703 , test_loss:  4.4127517 , last batch loss: 4.097594738006592\n",
      "iter_num 17400  train_loss: 3.9713366 , test_loss:  6.2045555 , last batch loss: 20.202836990356445\n",
      "iter_num 17500  train_loss: 4.724603 , test_loss:  3.161605 , last batch loss: 4.028794288635254\n",
      "Directory already exists at /home/suhas/research/dl/checkpoints/\n",
      "Checkpoint saved at iter 17500\n",
      "iter_num 17600  train_loss: 3.1347048 , test_loss:  2.1681292 , last batch loss: 3.4401793479919434\n",
      "iter_num 17700  train_loss: 2.9197433 , test_loss:  6.3202496 , last batch loss: 121.2288589477539\n",
      "iter_num 17800  train_loss: 3.1684284 , test_loss:  3.0011091 , last batch loss: 2.907611131668091\n",
      "iter_num 17900  train_loss: 4.1412616 , test_loss:  3.276901 , last batch loss: 9.420158386230469\n",
      "iter_num 18000  train_loss: 2.9823594 , test_loss:  2.789969 , last batch loss: 7.148614883422852\n",
      "Directory already exists at /home/suhas/research/dl/checkpoints/\n",
      "Checkpoint saved at iter 18000\n",
      "iter_num 18100  train_loss: 2.3996005 , test_loss:  4.677626 , last batch loss: 5.54958963394165\n",
      "iter_num 18200  train_loss: 7.8091445 , test_loss:  3.915908 , last batch loss: 2.656527519226074\n",
      "iter_num 18300  train_loss: 3.201888 , test_loss:  4.5604906 , last batch loss: 28.094886779785156\n",
      "iter_num 18400  train_loss: 2.6443398 , test_loss:  3.4830787 , last batch loss: 6.151880264282227\n",
      "iter_num 18500  train_loss: 4.428331 , test_loss:  4.966278 , last batch loss: 5.414484977722168\n",
      "Directory already exists at /home/suhas/research/dl/checkpoints/\n",
      "Checkpoint saved at iter 18500\n",
      "iter_num 18600  train_loss: 4.0706105 , test_loss:  4.231594 , last batch loss: 7.802484512329102\n",
      "iter_num 18700  train_loss: 5.5479574 , test_loss:  4.6823683 , last batch loss: 7.263058662414551\n",
      "iter_num 18800  train_loss: 7.5237927 , test_loss:  2.5913389 , last batch loss: 12.808310508728027\n",
      "iter_num 18900  train_loss: 4.04785 , test_loss:  2.2899222 , last batch loss: 16.00868034362793\n",
      "iter_num 19000  train_loss: 3.2595387 , test_loss:  2.4072635 , last batch loss: 13.30605697631836\n",
      "Directory already exists at /home/suhas/research/dl/checkpoints/\n",
      "Checkpoint saved at iter 19000\n",
      "iter_num 19100  train_loss: 5.2881603 , test_loss:  3.6895459 , last batch loss: 8.064894676208496\n",
      "iter_num 19200  train_loss: 6.2588787 , test_loss:  3.1932838 , last batch loss: 3.1075637340545654\n",
      "iter_num 19300  train_loss: 4.3510447 , test_loss:  5.0336566 , last batch loss: 7.0210676193237305\n",
      "iter_num 19400  train_loss: 3.3486578 , test_loss:  3.5665138 , last batch loss: 6.063505172729492\n",
      "iter_num 19500  train_loss: 5.2696705 , test_loss:  2.8140876 , last batch loss: 10.2724609375\n",
      "Directory already exists at /home/suhas/research/dl/checkpoints/\n",
      "Checkpoint saved at iter 19500\n",
      "iter_num 19600  train_loss: 3.7026794 , test_loss:  2.5046477 , last batch loss: 5.253718376159668\n",
      "iter_num 19700  train_loss: 2.765785 , test_loss:  2.908883 , last batch loss: 6.7834553718566895\n",
      "iter_num 19800  train_loss: 4.418663 , test_loss:  4.9019265 , last batch loss: 8.158729553222656\n",
      "iter_num 19900  train_loss: 4.8788466 , test_loss:  2.9385765 , last batch loss: 5.055894374847412\n",
      "iter_num 20000  train_loss: 3.2122436 , test_loss:  2.4488552 , last batch loss: 7.388597011566162\n",
      "Directory already exists at /home/suhas/research/dl/checkpoints/\n",
      "Checkpoint saved at iter 20000\n"
     ]
    }
   ],
   "source": [
    "trainer.run()"
   ]
  },
  {
   "cell_type": "code",
   "execution_count": 19,
   "metadata": {},
   "outputs": [],
   "source": [
    "dftrain = pd.DataFrame(trainer.train_losses)\n",
    "dftrain.columns = ['batches','loss']\n",
    "\n",
    "dftest = pd.DataFrame(trainer.test_losses)\n",
    "dftest.columns = ['batches','loss']"
   ]
  },
  {
   "cell_type": "code",
   "execution_count": 15,
   "metadata": {},
   "outputs": [
    {
     "data": {
      "image/png": "[encoded data removed]",
      "text/plain": [
       "<Figure size 640x480 with 1 Axes>"
      ]
     },
     "metadata": {},
     "output_type": "display_data"
    }
   ],
   "source": [
    "plt.plot(list(dftrain.batches), list(dftrain.loss))\n",
    "plt.plot(list(dftest.batches), list(dftest.loss))\n",
    "plt.legend(['train loss','test_loss'])\n",
    "plt.grid()"
   ]
  },
  {
   "cell_type": "code",
   "execution_count": 21,
   "metadata": {},
   "outputs": [
    {
     "data": {
      "image/png": "[encoded data removed]",
      "text/plain": [
       "<Figure size 640x480 with 1 Axes>"
      ]
     },
     "metadata": {},
     "output_type": "display_data"
    }
   ],
   "source": [
    "plt.plot(list(dftrain.batches), list(dftrain.loss))\n",
    "plt.plot(list(dftest.batches), list(dftest.loss))\n",
    "plt.legend(['train loss','test_loss'])\n",
    "plt.ylim([0, 160])\n",
    "plt.grid()"
   ]
  },
  {
   "cell_type": "code",
   "execution_count": null,
   "metadata": {},
   "outputs": [],
   "source": []
  }
 ],
 "metadata": {
  "kernelspec": {
   "display_name": "Python 3 (ipykernel)",
   "language": "python",
   "name": "python3"
  },
  "language_info": {
   "codemirror_mode": {
    "name": "ipython",
    "version": 3
   },
   "file_extension": ".py",
   "mimetype": "text/x-python",
   "name": "python",
   "nbconvert_exporter": "python",
   "pygments_lexer": "ipython3",
   "version": "3.10.12"
  },
  "vscode": {
   "interpreter": {
    "hash": "3ad933181bd8a04b432d3370b9dc3b0662ad032c4dfaa4e4f1596c548f763858"
   }
  }
 },
 "nbformat": 4,
 "nbformat_minor": 4
}
