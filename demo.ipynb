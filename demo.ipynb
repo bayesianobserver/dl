{
 "cells": [
  {
   "cell_type": "code",
   "execution_count": 1,
   "metadata": {},
   "outputs": [
    {
     "name": "stderr",
     "output_type": "stream",
     "text": [
      "2024-04-30 15:20:57.325358: I tensorflow/core/platform/cpu_feature_guard.cc:193] This TensorFlow binary is optimized with oneAPI Deep Neural Network Library (oneDNN) to use the following CPU instructions in performance-critical operations:  AVX2 FMA\n",
      "To enable them in other operations, rebuild TensorFlow with the appropriate compiler flags.\n",
      "2024-04-30 15:20:57.503212: W tensorflow/compiler/xla/stream_executor/platform/default/dso_loader.cc:64] Could not load dynamic library 'libcudart.so.11.0'; dlerror: libcudart.so.11.0: cannot open shared object file: No such file or directory\n",
      "2024-04-30 15:20:57.503232: I tensorflow/compiler/xla/stream_executor/cuda/cudart_stub.cc:29] Ignore above cudart dlerror if you do not have a GPU set up on your machine.\n",
      "2024-04-30 15:20:58.141480: W tensorflow/compiler/xla/stream_executor/platform/default/dso_loader.cc:64] Could not load dynamic library 'libnvinfer.so.7'; dlerror: libnvinfer.so.7: cannot open shared object file: No such file or directory\n",
      "2024-04-30 15:20:58.141569: W tensorflow/compiler/xla/stream_executor/platform/default/dso_loader.cc:64] Could not load dynamic library 'libnvinfer_plugin.so.7'; dlerror: libnvinfer_plugin.so.7: cannot open shared object file: No such file or directory\n",
      "2024-04-30 15:20:58.141577: W tensorflow/compiler/tf2tensorrt/utils/py_utils.cc:38] TF-TRT Warning: Cannot dlopen some TensorRT libraries. If you would like to use Nvidia GPU with TensorRT, please make sure the missing libraries mentioned above are installed properly.\n"
     ]
    }
   ],
   "source": [
    "import torch\n",
    "from torch.utils.data import Dataset\n",
    "from torch.utils.data.dataloader import DataLoader\n",
    "from utils import set_seed\n",
    "import sys\n",
    "set_seed(3407)\n",
    "import pylab as plt\n",
    "import pandas as pd\n",
    "from torch.utils.tensorboard import SummaryWriter\n",
    "writer = SummaryWriter()"
   ]
  },
  {
   "cell_type": "code",
   "execution_count": 2,
   "metadata": {},
   "outputs": [],
   "source": [
    "import pickle\n",
    "\n",
    "class TabularRegressionData(Dataset):\n",
    "    \"\"\" \n",
    "    Simple tabular data with 5 numerical features and 1 numerical response. \n",
    "    \"\"\"\n",
    "\n",
    "    def __init__(self, split, dimensions = 5):\n",
    "        assert split in {'train', 'test'}\n",
    "        self.split = split\n",
    "        self.dimensions = dimensions\n",
    "        \n",
    "    def __len__(self):\n",
    "        return 10000 # ...\n",
    "    \n",
    "    def __getitem__(self, idx):\n",
    "        x = torch.randn(5)\n",
    "        y = -3.15 + x[0] + (2 * x[2] * x[3]) - 3 * (x[4]**3)\n",
    "        w = torch.rand(1)\n",
    "        return x, y, w\n"
   ]
  },
  {
   "cell_type": "code",
   "execution_count": 3,
   "metadata": {},
   "outputs": [],
   "source": [
    "class CSVLoader(Dataset):\n",
    "    def __init__(self, file_path, feature_cols, target_col, dimensions = 5):\n",
    "        \"\"\"\n",
    "        Args:\n",
    "            file_path (str): Path to the CSV file.\n",
    "            feature_cols (list of str): List of column names to be used as features.\n",
    "            target_col (str): Column name of the target variable.\n",
    "            transform (callable, optional): Optional transform to be applied on a sample.\n",
    "        \"\"\"\n",
    "        self.data_frame = pd.read_csv(file_path)\n",
    "        self.feature_cols = feature_cols\n",
    "        self.target_col = target_col\n",
    "        self.dimensions = dimensions\n",
    "        \n",
    "    def __len__(self):\n",
    "        return len(self.data_frame)\n",
    "\n",
    "    def __getitem__(self, idx):\n",
    "        if torch.is_tensor(idx):\n",
    "            idx = idx.tolist()\n",
    "        features = torch.tensor(self.data_frame.loc[idx, self.feature_cols].values.astype('float32'))\n",
    "        target = torch.tensor(self.data_frame.loc[idx, self.target_col], dtype = torch.float32)\n",
    "        return features, target\n",
    "\n"
   ]
  },
  {
   "cell_type": "code",
   "execution_count": 4,
   "metadata": {},
   "outputs": [
    {
     "name": "stdout",
     "output_type": "stream",
     "text": [
      "tensor([ 1.0971,  0.5328, -0.3311, -0.4458,  0.6679]) tensor(-2.6515) tensor([0.1637])\n",
      "tensor([ 0.7001, -1.3740,  0.8256, -0.8355, -2.0480]) tensor(21.9389) tensor([0.4118])\n"
     ]
    }
   ],
   "source": [
    "# print an example instance of the dataset\n",
    "train_dataset = TabularRegressionData('train')\n",
    "test_dataset = TabularRegressionData('test')\n",
    "x, y, w = train_dataset[0]\n",
    "print(x, y, w)\n",
    "x1, y1, w1 = test_dataset[0]\n",
    "print(x1, y1, w1)\n"
   ]
  },
  {
   "cell_type": "code",
   "execution_count": 5,
   "metadata": {},
   "outputs": [
    {
     "data": {
      "text/plain": [
       "(10000, 10000)"
      ]
     },
     "execution_count": 5,
     "metadata": {},
     "output_type": "execute_result"
    }
   ],
   "source": [
    "len(train_dataset), len(test_dataset)"
   ]
  },
  {
   "cell_type": "code",
   "execution_count": 6,
   "metadata": {},
   "outputs": [
    {
     "data": {
      "text/plain": [
       "(48, 48)"
      ]
     },
     "execution_count": 6,
     "metadata": {},
     "output_type": "execute_result"
    }
   ],
   "source": [
    "sys.getsizeof(train_dataset), sys.getsizeof(test_dataset)"
   ]
  },
  {
   "cell_type": "code",
   "execution_count": 7,
   "metadata": {},
   "outputs": [
    {
     "data": {
      "text/plain": [
       "(torch.float32, torch.float32, torch.float32, torch.float32)"
      ]
     },
     "execution_count": 7,
     "metadata": {},
     "output_type": "execute_result"
    }
   ],
   "source": [
    "x1.dtype, x.dtype, y1.dtype, y.dtype"
   ]
  },
  {
   "cell_type": "code",
   "execution_count": 8,
   "metadata": {},
   "outputs": [],
   "source": [
    "# create a GPT instance\n",
    "from model_ff import ffmodel\n",
    "model_config = ffmodel.get_default_config()\n",
    "model_config.input_size = 5\n",
    "model_config.use_dropout = True\n",
    "model_config.p_drop = 0.1\n",
    "model = ffmodel(model_config)"
   ]
  },
  {
   "cell_type": "code",
   "execution_count": 9,
   "metadata": {},
   "outputs": [
    {
     "name": "stdout",
     "output_type": "stream",
     "text": [
      "running on device cpu\n"
     ]
    }
   ],
   "source": [
    "# create a Trainer object\n",
    "from trainer import Trainer\n",
    "\n",
    "train_config = Trainer.get_default_config()\n",
    "train_config.learning_rate = 3e-4 # the model we're using is so small that we can go a bit faster\n",
    "train_config.max_iters = 20000\n",
    "train_config.num_workers = 4\n",
    "train_config.batch_size = 100\n",
    "train_config.eval_iters = 100\n",
    "train_config.resume = False\n",
    "train_config.checkpoint_path = '/home/suhas/research/dl/checkpoints/'\n",
    "trainer = Trainer(train_config, model, train_dataset, test_dataset)"
   ]
  },
  {
   "cell_type": "code",
   "execution_count": 10,
   "metadata": {},
   "outputs": [],
   "source": [
    "# def batch_end_callback(trainer):\n",
    "#     if trainer.iter_num % 100 == 0:\n",
    "#         print(f\"iter_dt {trainer.iter_dt * 1000:.2f}ms; iter {trainer.iter_num}: train loss {trainer.loss.item():.5f}\")\n",
    "        \n",
    "# #trainer.set_callback('on_batch_end', batch_end_callback)"
   ]
  },
  {
   "cell_type": "code",
   "execution_count": 11,
   "metadata": {},
   "outputs": [
    {
     "name": "stdout",
     "output_type": "stream",
     "text": [
      "iter_num 100  train_loss: 71.23667907714844 , test_loss:  78.24456787109375 , last batch loss: 61.6900634765625\n",
      "iter_num 200  train_loss: 77.408203125 , test_loss:  72.26527404785156 , last batch loss: 40.255455017089844\n",
      "iter_num 300  train_loss: 71.95394134521484 , test_loss:  63.61396026611328 , last batch loss: 61.95376968383789\n",
      "iter_num 400  train_loss: 68.21039581298828 , test_loss:  68.12724304199219 , last batch loss: 43.23558807373047\n",
      "iter_num 500  train_loss: 65.35712432861328 , test_loss:  67.5605239868164 , last batch loss: 35.0493049621582\n",
      "Directory already exists at /home/suhas/research/dl/checkpoints/\n",
      "Checkpoint saved at iter 500\n",
      "iter_num 600  train_loss: 56.24153518676758 , test_loss:  61.412017822265625 , last batch loss: 13.596185684204102\n",
      "iter_num 700  train_loss: 56.943058013916016 , test_loss:  57.534934997558594 , last batch loss: 34.33395004272461\n",
      "iter_num 800  train_loss: 45.77349853515625 , test_loss:  49.17228698730469 , last batch loss: 32.924251556396484\n",
      "iter_num 900  train_loss: 47.83391571044922 , test_loss:  44.176124572753906 , last batch loss: 41.60268783569336\n",
      "iter_num 1000  train_loss: 47.034427642822266 , test_loss:  41.41444396972656 , last batch loss: 19.144916534423828\n",
      "Directory already exists at /home/suhas/research/dl/checkpoints/\n",
      "Checkpoint saved at iter 1000\n",
      "iter_num 1100  train_loss: 41.82466506958008 , test_loss:  40.41024398803711 , last batch loss: 34.770286560058594\n",
      "iter_num 1200  train_loss: 43.09126663208008 , test_loss:  46.024078369140625 , last batch loss: 20.22394561767578\n",
      "iter_num 1300  train_loss: 34.49412536621094 , test_loss:  35.679203033447266 , last batch loss: 23.909881591796875\n",
      "iter_num 1400  train_loss: 35.066619873046875 , test_loss:  40.771724700927734 , last batch loss: 11.582551956176758\n",
      "iter_num 1500  train_loss: 37.23720169067383 , test_loss:  32.664302825927734 , last batch loss: 14.861459732055664\n",
      "Directory already exists at /home/suhas/research/dl/checkpoints/\n",
      "Checkpoint saved at iter 1500\n",
      "iter_num 1600  train_loss: 30.821636199951172 , test_loss:  30.29183578491211 , last batch loss: 12.830286026000977\n",
      "iter_num 1700  train_loss: 35.32177734375 , test_loss:  32.06694793701172 , last batch loss: 75.66071319580078\n",
      "iter_num 1800  train_loss: 32.3717155456543 , test_loss:  34.702388763427734 , last batch loss: 33.935935974121094\n",
      "iter_num 1900  train_loss: 29.02570152282715 , test_loss:  27.090951919555664 , last batch loss: 61.475555419921875\n",
      "iter_num 2000  train_loss: 29.705394744873047 , test_loss:  28.241195678710938 , last batch loss: 174.4134521484375\n",
      "Directory already exists at /home/suhas/research/dl/checkpoints/\n",
      "Checkpoint saved at iter 2000\n",
      "iter_num 2100  train_loss: 27.092329025268555 , test_loss:  30.637401580810547 , last batch loss: 24.650419235229492\n",
      "iter_num 2200  train_loss: 33.274696350097656 , test_loss:  26.253822326660156 , last batch loss: 16.445165634155273\n",
      "iter_num 2300  train_loss: 21.369277954101562 , test_loss:  22.917631149291992 , last batch loss: 10.431034088134766\n",
      "iter_num 2400  train_loss: 27.784452438354492 , test_loss:  30.281492233276367 , last batch loss: 31.261934280395508\n",
      "iter_num 2500  train_loss: 19.068605422973633 , test_loss:  21.466636657714844 , last batch loss: 18.39202880859375\n",
      "Directory already exists at /home/suhas/research/dl/checkpoints/\n",
      "Checkpoint saved at iter 2500\n",
      "iter_num 2600  train_loss: 19.431838989257812 , test_loss:  20.233299255371094 , last batch loss: 17.482601165771484\n",
      "iter_num 2700  train_loss: 23.71318817138672 , test_loss:  21.34909439086914 , last batch loss: 21.138671875\n",
      "iter_num 2800  train_loss: 16.92751121520996 , test_loss:  21.216562271118164 , last batch loss: 95.78499603271484\n",
      "iter_num 2900  train_loss: 28.445594787597656 , test_loss:  20.545194625854492 , last batch loss: 32.096378326416016\n",
      "iter_num 3000  train_loss: 16.996068954467773 , test_loss:  15.95315170288086 , last batch loss: 16.60907554626465\n",
      "Directory already exists at /home/suhas/research/dl/checkpoints/\n",
      "Checkpoint saved at iter 3000\n",
      "iter_num 3100  train_loss: 20.75834846496582 , test_loss:  17.722978591918945 , last batch loss: 102.05530548095703\n",
      "iter_num 3200  train_loss: 17.590614318847656 , test_loss:  12.832566261291504 , last batch loss: 9.408893585205078\n",
      "iter_num 3300  train_loss: 15.55160140991211 , test_loss:  12.828357696533203 , last batch loss: 18.511943817138672\n",
      "iter_num 3400  train_loss: 11.970712661743164 , test_loss:  14.307246208190918 , last batch loss: 6.689900875091553\n",
      "iter_num 3500  train_loss: 13.786218643188477 , test_loss:  15.105644226074219 , last batch loss: 4.02144718170166\n",
      "Directory already exists at /home/suhas/research/dl/checkpoints/\n",
      "Checkpoint saved at iter 3500\n",
      "iter_num 3600  train_loss: 12.390971183776855 , test_loss:  12.869985580444336 , last batch loss: 8.75213623046875\n",
      "iter_num 3700  train_loss: 13.87280559539795 , test_loss:  14.938813209533691 , last batch loss: 7.358409404754639\n",
      "iter_num 3800  train_loss: 10.383929252624512 , test_loss:  12.041595458984375 , last batch loss: 17.916345596313477\n",
      "iter_num 3900  train_loss: 14.35207462310791 , test_loss:  10.784688949584961 , last batch loss: 5.160272121429443\n",
      "iter_num 4000  train_loss: 14.41672134399414 , test_loss:  10.56454086303711 , last batch loss: 6.942461013793945\n",
      "Directory already exists at /home/suhas/research/dl/checkpoints/\n",
      "Checkpoint saved at iter 4000\n",
      "iter_num 4100  train_loss: 8.172057151794434 , test_loss:  10.310883522033691 , last batch loss: 4.3666839599609375\n",
      "iter_num 4200  train_loss: 9.718045234680176 , test_loss:  12.226099014282227 , last batch loss: 12.867877960205078\n",
      "iter_num 4300  train_loss: 11.88573932647705 , test_loss:  9.145644187927246 , last batch loss: 16.200103759765625\n",
      "iter_num 4400  train_loss: 10.01816463470459 , test_loss:  5.829445838928223 , last batch loss: 20.604684829711914\n",
      "iter_num 4500  train_loss: 9.662035942077637 , test_loss:  10.16067886352539 , last batch loss: 11.297589302062988\n",
      "Directory already exists at /home/suhas/research/dl/checkpoints/\n",
      "Checkpoint saved at iter 4500\n",
      "iter_num 4600  train_loss: 10.388203620910645 , test_loss:  7.244060039520264 , last batch loss: 83.56932830810547\n",
      "iter_num 4700  train_loss: 11.324666023254395 , test_loss:  9.265907287597656 , last batch loss: 23.18051528930664\n",
      "iter_num 4800  train_loss: 9.146036148071289 , test_loss:  9.875184059143066 , last batch loss: 11.823334693908691\n",
      "iter_num 4900  train_loss: 7.762321472167969 , test_loss:  9.89166259765625 , last batch loss: 6.825315475463867\n",
      "iter_num 5000  train_loss: 11.019794464111328 , test_loss:  5.349348545074463 , last batch loss: 49.124229431152344\n",
      "Directory already exists at /home/suhas/research/dl/checkpoints/\n",
      "Checkpoint saved at iter 5000\n",
      "iter_num 5100  train_loss: 7.47560977935791 , test_loss:  6.964508056640625 , last batch loss: 6.913520336151123\n",
      "iter_num 5200  train_loss: 7.614571571350098 , test_loss:  5.962530612945557 , last batch loss: 3.8782098293304443\n",
      "iter_num 5300  train_loss: 5.098536491394043 , test_loss:  8.61856460571289 , last batch loss: 6.411383152008057\n",
      "iter_num 5400  train_loss: 12.605886459350586 , test_loss:  7.088223457336426 , last batch loss: 30.44890594482422\n",
      "iter_num 5500  train_loss: 7.973459243774414 , test_loss:  7.402692794799805 , last batch loss: 7.525378227233887\n",
      "Directory already exists at /home/suhas/research/dl/checkpoints/\n",
      "Checkpoint saved at iter 5500\n",
      "iter_num 5600  train_loss: 6.306720733642578 , test_loss:  6.028011322021484 , last batch loss: 4.040571689605713\n",
      "iter_num 5700  train_loss: 7.988236427307129 , test_loss:  9.148548126220703 , last batch loss: 64.70315551757812\n",
      "iter_num 5800  train_loss: 8.015961647033691 , test_loss:  7.627403736114502 , last batch loss: 12.43649959564209\n",
      "iter_num 5900  train_loss: 7.705878734588623 , test_loss:  6.008517265319824 , last batch loss: 6.6086320877075195\n",
      "iter_num 6000  train_loss: 5.572622776031494 , test_loss:  8.50795841217041 , last batch loss: 4.583676815032959\n",
      "Directory already exists at /home/suhas/research/dl/checkpoints/\n",
      "Checkpoint saved at iter 6000\n",
      "iter_num 6100  train_loss: 5.265989303588867 , test_loss:  5.485937118530273 , last batch loss: 25.875263214111328\n",
      "iter_num 6200  train_loss: 5.380655765533447 , test_loss:  6.186352729797363 , last batch loss: 4.595677852630615\n",
      "iter_num 6300  train_loss: 7.489357948303223 , test_loss:  6.005189418792725 , last batch loss: 4.21587610244751\n",
      "iter_num 6400  train_loss: 5.997593402862549 , test_loss:  5.865139961242676 , last batch loss: 8.184396743774414\n",
      "iter_num 6500  train_loss: 5.56382942199707 , test_loss:  5.83475399017334 , last batch loss: 6.935585021972656\n",
      "Directory already exists at /home/suhas/research/dl/checkpoints/\n",
      "Checkpoint saved at iter 6500\n",
      "iter_num 6600  train_loss: 6.748249530792236 , test_loss:  4.7519073486328125 , last batch loss: 4.935144424438477\n",
      "iter_num 6700  train_loss: 4.825280666351318 , test_loss:  5.985970973968506 , last batch loss: 5.9705610275268555\n",
      "iter_num 6800  train_loss: 3.8805696964263916 , test_loss:  10.030961036682129 , last batch loss: 6.069286823272705\n",
      "iter_num 6900  train_loss: 5.800149917602539 , test_loss:  5.016363620758057 , last batch loss: 12.948762893676758\n",
      "iter_num 7000  train_loss: 4.131663799285889 , test_loss:  5.137643814086914 , last batch loss: 5.769772529602051\n",
      "Directory already exists at /home/suhas/research/dl/checkpoints/\n",
      "Checkpoint saved at iter 7000\n",
      "iter_num 7100  train_loss: 6.672469615936279 , test_loss:  5.97819709777832 , last batch loss: 16.158628463745117\n",
      "iter_num 7200  train_loss: 6.127873420715332 , test_loss:  4.682901382446289 , last batch loss: 3.0127410888671875\n",
      "iter_num 7300  train_loss: 6.606378078460693 , test_loss:  4.373254299163818 , last batch loss: 5.5865888595581055\n",
      "iter_num 7400  train_loss: 4.816157341003418 , test_loss:  6.154661178588867 , last batch loss: 4.124156475067139\n",
      "iter_num 7500  train_loss: 4.915553569793701 , test_loss:  6.735306262969971 , last batch loss: 2.7190001010894775\n",
      "Directory already exists at /home/suhas/research/dl/checkpoints/\n",
      "Checkpoint saved at iter 7500\n",
      "iter_num 7600  train_loss: 5.161918640136719 , test_loss:  4.826730251312256 , last batch loss: 5.07136344909668\n",
      "iter_num 7700  train_loss: 8.192412376403809 , test_loss:  4.611024856567383 , last batch loss: 9.150275230407715\n",
      "iter_num 7800  train_loss: 5.076904773712158 , test_loss:  4.9190778732299805 , last batch loss: 11.956730842590332\n",
      "iter_num 7900  train_loss: 4.27191162109375 , test_loss:  3.2909111976623535 , last batch loss: 24.218711853027344\n",
      "iter_num 8000  train_loss: 5.763111114501953 , test_loss:  9.405643463134766 , last batch loss: 7.235174179077148\n",
      "Directory already exists at /home/suhas/research/dl/checkpoints/\n",
      "Checkpoint saved at iter 8000\n",
      "iter_num 8100  train_loss: 6.261340141296387 , test_loss:  4.634522914886475 , last batch loss: 4.0302534103393555\n",
      "iter_num 8200  train_loss: 4.221704006195068 , test_loss:  3.894850730895996 , last batch loss: 10.213031768798828\n",
      "iter_num 8300  train_loss: 3.582937240600586 , test_loss:  4.661307334899902 , last batch loss: 6.053419589996338\n",
      "iter_num 8400  train_loss: 4.536787509918213 , test_loss:  3.9667296409606934 , last batch loss: 3.434998035430908\n",
      "iter_num 8500  train_loss: 4.864030361175537 , test_loss:  4.864109039306641 , last batch loss: 1.8181843757629395\n",
      "Directory already exists at /home/suhas/research/dl/checkpoints/\n",
      "Checkpoint saved at iter 8500\n",
      "iter_num 8600  train_loss: 5.529733657836914 , test_loss:  3.7279601097106934 , last batch loss: 4.500991344451904\n",
      "iter_num 8700  train_loss: 6.39879846572876 , test_loss:  6.773798942565918 , last batch loss: 1.9580808877944946\n",
      "iter_num 8800  train_loss: 6.046432018280029 , test_loss:  4.1016058921813965 , last batch loss: 24.53394889831543\n",
      "iter_num 8900  train_loss: 4.169260025024414 , test_loss:  3.555102586746216 , last batch loss: 2.0332889556884766\n",
      "iter_num 9000  train_loss: 5.508927345275879 , test_loss:  3.7534499168395996 , last batch loss: 8.430052757263184\n",
      "Directory already exists at /home/suhas/research/dl/checkpoints/\n",
      "Checkpoint saved at iter 9000\n",
      "iter_num 9100  train_loss: 3.9050843715667725 , test_loss:  4.379146099090576 , last batch loss: 12.802021980285645\n",
      "iter_num 9200  train_loss: 5.093298435211182 , test_loss:  4.7881178855896 , last batch loss: 4.23341703414917\n",
      "iter_num 9300  train_loss: 4.739967346191406 , test_loss:  3.95993709564209 , last batch loss: 5.30896520614624\n",
      "iter_num 9400  train_loss: 4.333115100860596 , test_loss:  4.954527378082275 , last batch loss: 11.95645523071289\n",
      "iter_num 9500  train_loss: 2.62884783744812 , test_loss:  5.720860004425049 , last batch loss: 3.503633975982666\n",
      "Directory already exists at /home/suhas/research/dl/checkpoints/\n",
      "Checkpoint saved at iter 9500\n",
      "iter_num 9600  train_loss: 4.074372291564941 , test_loss:  3.796638250350952 , last batch loss: 2.8520255088806152\n",
      "iter_num 9700  train_loss: 3.5425753593444824 , test_loss:  2.6146187782287598 , last batch loss: 2.817624807357788\n",
      "iter_num 9800  train_loss: 2.5219948291778564 , test_loss:  2.1315433979034424 , last batch loss: 5.8712968826293945\n",
      "iter_num 9900  train_loss: 4.876533508300781 , test_loss:  3.93019962310791 , last batch loss: 22.66306495666504\n",
      "iter_num 10000  train_loss: 3.145381212234497 , test_loss:  4.224375247955322 , last batch loss: 6.027719974517822\n",
      "Directory already exists at /home/suhas/research/dl/checkpoints/\n",
      "Checkpoint saved at iter 10000\n",
      "iter_num 10100  train_loss: 4.570817947387695 , test_loss:  5.877306938171387 , last batch loss: 1.4442224502563477\n",
      "iter_num 10200  train_loss: 3.356390953063965 , test_loss:  4.0516557693481445 , last batch loss: 2.4812769889831543\n",
      "iter_num 10300  train_loss: 6.86426305770874 , test_loss:  3.250741481781006 , last batch loss: 3.8607492446899414\n",
      "iter_num 10400  train_loss: 5.183810234069824 , test_loss:  4.829933166503906 , last batch loss: 2.461604356765747\n",
      "iter_num 10500  train_loss: 3.432732105255127 , test_loss:  5.982234954833984 , last batch loss: 4.817821502685547\n",
      "Directory already exists at /home/suhas/research/dl/checkpoints/\n",
      "Checkpoint saved at iter 10500\n",
      "iter_num 10600  train_loss: 4.126936435699463 , test_loss:  3.7334680557250977 , last batch loss: 5.087723255157471\n",
      "iter_num 10700  train_loss: 4.567598819732666 , test_loss:  4.024367809295654 , last batch loss: 2.33011531829834\n",
      "iter_num 10800  train_loss: 3.096702814102173 , test_loss:  3.8051254749298096 , last batch loss: 5.4870100021362305\n",
      "iter_num 10900  train_loss: 4.02708101272583 , test_loss:  4.156366348266602 , last batch loss: 3.652703046798706\n",
      "iter_num 11000  train_loss: 3.810223340988159 , test_loss:  4.27260160446167 , last batch loss: 18.54854393005371\n",
      "Directory already exists at /home/suhas/research/dl/checkpoints/\n",
      "Checkpoint saved at iter 11000\n",
      "iter_num 11100  train_loss: 7.5007643699646 , test_loss:  4.74331521987915 , last batch loss: 7.47666072845459\n",
      "iter_num 11200  train_loss: 2.59358549118042 , test_loss:  3.5029690265655518 , last batch loss: 4.506208419799805\n",
      "iter_num 11300  train_loss: 2.4178318977355957 , test_loss:  4.0026397705078125 , last batch loss: 3.7466981410980225\n",
      "iter_num 11400  train_loss: 2.48683500289917 , test_loss:  4.996774673461914 , last batch loss: 3.3222992420196533\n",
      "iter_num 11500  train_loss: 5.060333251953125 , test_loss:  4.1857404708862305 , last batch loss: 1.6120482683181763\n",
      "Directory already exists at /home/suhas/research/dl/checkpoints/\n",
      "Checkpoint saved at iter 11500\n",
      "iter_num 11600  train_loss: 2.348322629928589 , test_loss:  4.201648712158203 , last batch loss: 4.645208835601807\n",
      "iter_num 11700  train_loss: 3.6369566917419434 , test_loss:  3.6569418907165527 , last batch loss: 1.7836308479309082\n",
      "iter_num 11800  train_loss: 3.617015838623047 , test_loss:  2.383293867111206 , last batch loss: 8.225401878356934\n",
      "iter_num 11900  train_loss: 2.7637667655944824 , test_loss:  2.6558656692504883 , last batch loss: 4.590480327606201\n",
      "iter_num 12000  train_loss: 3.353224754333496 , test_loss:  4.708050727844238 , last batch loss: 2.3873817920684814\n",
      "Directory already exists at /home/suhas/research/dl/checkpoints/\n",
      "Checkpoint saved at iter 12000\n",
      "iter_num 12100  train_loss: 2.1791560649871826 , test_loss:  3.8423757553100586 , last batch loss: 6.2929463386535645\n",
      "iter_num 12200  train_loss: 3.9513864517211914 , test_loss:  2.934086561203003 , last batch loss: 6.933106422424316\n",
      "iter_num 12300  train_loss: 3.203244686126709 , test_loss:  2.723191499710083 , last batch loss: 1.9249582290649414\n",
      "iter_num 12400  train_loss: 2.3101470470428467 , test_loss:  3.817105770111084 , last batch loss: 11.378297805786133\n",
      "iter_num 12500  train_loss: 4.824764251708984 , test_loss:  4.15367317199707 , last batch loss: 4.822132587432861\n",
      "Directory already exists at /home/suhas/research/dl/checkpoints/\n",
      "Checkpoint saved at iter 12500\n",
      "iter_num 12600  train_loss: 3.530029058456421 , test_loss:  3.7855212688446045 , last batch loss: 2.8263633251190186\n",
      "iter_num 12700  train_loss: 3.740877866744995 , test_loss:  3.952676296234131 , last batch loss: 2.8656628131866455\n",
      "iter_num 12800  train_loss: 2.6045405864715576 , test_loss:  7.0172882080078125 , last batch loss: 8.62575626373291\n",
      "iter_num 12900  train_loss: 2.935408592224121 , test_loss:  4.531750679016113 , last batch loss: 2.9547646045684814\n",
      "iter_num 13000  train_loss: 3.175405502319336 , test_loss:  4.565562725067139 , last batch loss: 5.3488593101501465\n",
      "Directory already exists at /home/suhas/research/dl/checkpoints/\n",
      "Checkpoint saved at iter 13000\n",
      "iter_num 13100  train_loss: 4.422879695892334 , test_loss:  4.4189772605896 , last batch loss: 11.889436721801758\n",
      "iter_num 13200  train_loss: 3.428091526031494 , test_loss:  2.490764856338501 , last batch loss: 4.889030456542969\n",
      "iter_num 13300  train_loss: 3.1294827461242676 , test_loss:  2.596578598022461 , last batch loss: 1.7420966625213623\n",
      "iter_num 13400  train_loss: 2.544203758239746 , test_loss:  3.1361184120178223 , last batch loss: 3.791232109069824\n",
      "iter_num 13500  train_loss: 2.2742843627929688 , test_loss:  1.5885485410690308 , last batch loss: 3.5909616947174072\n",
      "Directory already exists at /home/suhas/research/dl/checkpoints/\n",
      "Checkpoint saved at iter 13500\n",
      "iter_num 13600  train_loss: 3.0161750316619873 , test_loss:  2.9833905696868896 , last batch loss: 5.669318199157715\n",
      "iter_num 13700  train_loss: 3.4240190982818604 , test_loss:  2.792975425720215 , last batch loss: 1.9894134998321533\n",
      "iter_num 13800  train_loss: 3.710211753845215 , test_loss:  1.907153606414795 , last batch loss: 6.542837619781494\n",
      "iter_num 13900  train_loss: 5.405412673950195 , test_loss:  2.4141838550567627 , last batch loss: 3.686969518661499\n",
      "iter_num 14000  train_loss: 2.6291706562042236 , test_loss:  2.651871681213379 , last batch loss: 3.7219367027282715\n",
      "Directory already exists at /home/suhas/research/dl/checkpoints/\n",
      "Checkpoint saved at iter 14000\n",
      "iter_num 14100  train_loss: 3.850696086883545 , test_loss:  2.692739248275757 , last batch loss: 4.632721424102783\n",
      "iter_num 14200  train_loss: 3.4193198680877686 , test_loss:  3.5069198608398438 , last batch loss: 8.914862632751465\n",
      "iter_num 14300  train_loss: 4.080287456512451 , test_loss:  1.7803210020065308 , last batch loss: 11.714583396911621\n",
      "iter_num 14400  train_loss: 2.990084409713745 , test_loss:  3.2572600841522217 , last batch loss: 4.58306884765625\n",
      "iter_num 14500  train_loss: 3.5018205642700195 , test_loss:  2.499859571456909 , last batch loss: 2.1332883834838867\n",
      "Directory already exists at /home/suhas/research/dl/checkpoints/\n",
      "Checkpoint saved at iter 14500\n",
      "iter_num 14600  train_loss: 4.22972297668457 , test_loss:  4.542147159576416 , last batch loss: 37.26601028442383\n",
      "iter_num 14700  train_loss: 3.54955792427063 , test_loss:  2.7044906616210938 , last batch loss: 3.170316457748413\n",
      "iter_num 14800  train_loss: 3.1636993885040283 , test_loss:  3.7706029415130615 , last batch loss: 129.70046997070312\n",
      "iter_num 14900  train_loss: 3.7251274585723877 , test_loss:  3.5500574111938477 , last batch loss: 2.1811776161193848\n",
      "iter_num 15000  train_loss: 2.7340900897979736 , test_loss:  3.382183790206909 , last batch loss: 2.294142961502075\n",
      "Directory already exists at /home/suhas/research/dl/checkpoints/\n",
      "Checkpoint saved at iter 15000\n",
      "iter_num 15100  train_loss: 2.998791456222534 , test_loss:  3.3986966609954834 , last batch loss: 4.271925926208496\n",
      "iter_num 15200  train_loss: 2.056952953338623 , test_loss:  3.6474339962005615 , last batch loss: 1.8824509382247925\n",
      "iter_num 15300  train_loss: 2.488203525543213 , test_loss:  3.5317211151123047 , last batch loss: 7.836423397064209\n",
      "iter_num 15400  train_loss: 3.448530673980713 , test_loss:  2.3788416385650635 , last batch loss: 6.022378921508789\n",
      "iter_num 15500  train_loss: 2.485083818435669 , test_loss:  2.8013088703155518 , last batch loss: 23.546775817871094\n",
      "Directory already exists at /home/suhas/research/dl/checkpoints/\n",
      "Checkpoint saved at iter 15500\n",
      "iter_num 15600  train_loss: 2.0859768390655518 , test_loss:  3.8840537071228027 , last batch loss: 2.1197590827941895\n",
      "iter_num 15700  train_loss: 2.7141315937042236 , test_loss:  3.035125732421875 , last batch loss: 4.409127712249756\n",
      "iter_num 15800  train_loss: 2.3086178302764893 , test_loss:  3.3526370525360107 , last batch loss: 28.43649673461914\n",
      "iter_num 15900  train_loss: 2.948591947555542 , test_loss:  2.9116485118865967 , last batch loss: 4.151693820953369\n",
      "iter_num 16000  train_loss: 3.272632598876953 , test_loss:  3.5821704864501953 , last batch loss: 5.6607279777526855\n",
      "Directory already exists at /home/suhas/research/dl/checkpoints/\n",
      "Checkpoint saved at iter 16000\n",
      "iter_num 16100  train_loss: 2.5529370307922363 , test_loss:  3.2284276485443115 , last batch loss: 3.083069324493408\n",
      "iter_num 16200  train_loss: 1.929383397102356 , test_loss:  1.9610830545425415 , last batch loss: 5.260371685028076\n",
      "iter_num 16300  train_loss: 2.0100903511047363 , test_loss:  2.5734479427337646 , last batch loss: 2.1256024837493896\n",
      "iter_num 16400  train_loss: 2.0558433532714844 , test_loss:  3.622771978378296 , last batch loss: 9.165042877197266\n",
      "iter_num 16500  train_loss: 3.1018269062042236 , test_loss:  3.0553040504455566 , last batch loss: 2.579087972640991\n",
      "Directory already exists at /home/suhas/research/dl/checkpoints/\n",
      "Checkpoint saved at iter 16500\n",
      "iter_num 16600  train_loss: 2.993325710296631 , test_loss:  2.0863327980041504 , last batch loss: 2.59291410446167\n",
      "iter_num 16700  train_loss: 2.485525369644165 , test_loss:  2.9633169174194336 , last batch loss: 2.1845545768737793\n",
      "iter_num 16800  train_loss: 1.6980352401733398 , test_loss:  2.8080451488494873 , last batch loss: 3.0608370304107666\n",
      "iter_num 16900  train_loss: 3.742746591567993 , test_loss:  3.2325241565704346 , last batch loss: 2.115121603012085\n",
      "iter_num 17000  train_loss: 2.1536083221435547 , test_loss:  1.7770745754241943 , last batch loss: 3.2015743255615234\n",
      "Directory already exists at /home/suhas/research/dl/checkpoints/\n",
      "Checkpoint saved at iter 17000\n",
      "iter_num 17100  train_loss: 3.780135154724121 , test_loss:  3.1640279293060303 , last batch loss: 4.590156078338623\n",
      "iter_num 17200  train_loss: 1.9829730987548828 , test_loss:  3.3220877647399902 , last batch loss: 3.780778169631958\n",
      "iter_num 17300  train_loss: 2.4945812225341797 , test_loss:  3.2720530033111572 , last batch loss: 5.048458576202393\n",
      "iter_num 17400  train_loss: 2.5470430850982666 , test_loss:  2.0838816165924072 , last batch loss: 5.4812493324279785\n",
      "iter_num 17500  train_loss: 2.2377593517303467 , test_loss:  2.3545258045196533 , last batch loss: 1.4471362829208374\n",
      "Directory already exists at /home/suhas/research/dl/checkpoints/\n",
      "Checkpoint saved at iter 17500\n",
      "iter_num 17600  train_loss: 3.6596715450286865 , test_loss:  5.616024971008301 , last batch loss: 2.131650924682617\n",
      "iter_num 17700  train_loss: 2.6843552589416504 , test_loss:  2.042696237564087 , last batch loss: 2.480337619781494\n",
      "iter_num 17800  train_loss: 2.9180908203125 , test_loss:  2.8344433307647705 , last batch loss: 16.84707260131836\n",
      "iter_num 17900  train_loss: 3.3245108127593994 , test_loss:  2.78596830368042 , last batch loss: 7.239490509033203\n",
      "iter_num 18000  train_loss: 3.240694761276245 , test_loss:  2.0777108669281006 , last batch loss: 4.020660877227783\n",
      "Directory already exists at /home/suhas/research/dl/checkpoints/\n",
      "Checkpoint saved at iter 18000\n",
      "iter_num 18100  train_loss: 2.1609573364257812 , test_loss:  2.2400429248809814 , last batch loss: 3.8958215713500977\n",
      "iter_num 18200  train_loss: 1.8828566074371338 , test_loss:  2.3889358043670654 , last batch loss: 5.069032192230225\n",
      "iter_num 18300  train_loss: 2.189608335494995 , test_loss:  2.25121808052063 , last batch loss: 5.52441930770874\n",
      "iter_num 18400  train_loss: 4.457667827606201 , test_loss:  3.2745859622955322 , last batch loss: 9.816971778869629\n",
      "iter_num 18500  train_loss: 3.306751251220703 , test_loss:  2.5068018436431885 , last batch loss: 16.25029754638672\n",
      "Directory already exists at /home/suhas/research/dl/checkpoints/\n",
      "Checkpoint saved at iter 18500\n",
      "iter_num 18600  train_loss: 2.6702446937561035 , test_loss:  2.0112500190734863 , last batch loss: 13.048945426940918\n",
      "iter_num 18700  train_loss: 3.077314853668213 , test_loss:  2.1939611434936523 , last batch loss: 3.587203025817871\n",
      "iter_num 18800  train_loss: 3.406475782394409 , test_loss:  3.812145709991455 , last batch loss: 2.0144405364990234\n",
      "iter_num 18900  train_loss: 1.714586853981018 , test_loss:  2.116334915161133 , last batch loss: 48.158058166503906\n",
      "iter_num 19000  train_loss: 2.477133274078369 , test_loss:  3.2340893745422363 , last batch loss: 2.4817068576812744\n",
      "Directory already exists at /home/suhas/research/dl/checkpoints/\n",
      "Checkpoint saved at iter 19000\n",
      "iter_num 19100  train_loss: 2.0707242488861084 , test_loss:  3.265578508377075 , last batch loss: 1.665116786956787\n",
      "iter_num 19200  train_loss: 2.116199254989624 , test_loss:  3.1702747344970703 , last batch loss: 6.1484856605529785\n",
      "iter_num 19300  train_loss: 2.4994843006134033 , test_loss:  2.4123342037200928 , last batch loss: 3.415480136871338\n",
      "iter_num 19400  train_loss: 2.4171178340911865 , test_loss:  1.9145820140838623 , last batch loss: 7.009610176086426\n",
      "iter_num 19500  train_loss: 1.546848177909851 , test_loss:  2.995051383972168 , last batch loss: 3.7265079021453857\n",
      "Directory already exists at /home/suhas/research/dl/checkpoints/\n",
      "Checkpoint saved at iter 19500\n",
      "iter_num 19600  train_loss: 2.889836549758911 , test_loss:  1.925550103187561 , last batch loss: 10.341151237487793\n",
      "iter_num 19700  train_loss: 2.0143184661865234 , test_loss:  2.127135992050171 , last batch loss: 2.9210941791534424\n",
      "iter_num 19800  train_loss: 2.2122416496276855 , test_loss:  3.2231783866882324 , last batch loss: 7.591338157653809\n",
      "iter_num 19900  train_loss: 2.914708375930786 , test_loss:  1.7729777097702026 , last batch loss: 2.5444869995117188\n",
      "iter_num 20000  train_loss: 2.374540328979492 , test_loss:  2.5233101844787598 , last batch loss: 3.5699968338012695\n",
      "Directory already exists at /home/suhas/research/dl/checkpoints/\n",
      "Checkpoint saved at iter 20000\n"
     ]
    }
   ],
   "source": [
    "trainer.run()"
   ]
  },
  {
   "cell_type": "code",
   "execution_count": 12,
   "metadata": {},
   "outputs": [],
   "source": [
    "dftrain = pd.DataFrame(trainer.train_losses)\n",
    "dftrain.columns = ['batches','loss']\n",
    "\n",
    "dftest = pd.DataFrame(trainer.test_losses)\n",
    "dftest.columns = ['batches','loss']"
   ]
  },
  {
   "cell_type": "code",
   "execution_count": 13,
   "metadata": {},
   "outputs": [
    {
     "data": {
      "image/png": "[encoded data removed]",
      "text/plain": [
       "<Figure size 640x480 with 1 Axes>"
      ]
     },
     "metadata": {},
     "output_type": "display_data"
    }
   ],
   "source": [
    "plt.plot(list(dftrain.batches), list(dftrain.loss))\n",
    "plt.plot(list(dftest.batches), list(dftest.loss))\n",
    "plt.legend(['train loss','test_loss'])\n",
    "plt.grid()"
   ]
  },
  {
   "cell_type": "code",
   "execution_count": null,
   "metadata": {},
   "outputs": [],
   "source": []
  }
 ],
 "metadata": {
  "kernelspec": {
   "display_name": "Python 3 (ipykernel)",
   "language": "python",
   "name": "python3"
  },
  "language_info": {
   "codemirror_mode": {
    "name": "ipython",
    "version": 3
   },
   "file_extension": ".py",
   "mimetype": "text/x-python",
   "name": "python",
   "nbconvert_exporter": "python",
   "pygments_lexer": "ipython3",
   "version": "3.10.12"
  },
  "vscode": {
   "interpreter": {
    "hash": "3ad933181bd8a04b432d3370b9dc3b0662ad032c4dfaa4e4f1596c548f763858"
   }
  }
 },
 "nbformat": 4,
 "nbformat_minor": 4
}
