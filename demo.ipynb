{
 "cells": [
  {
   "cell_type": "code",
   "execution_count": 13,
   "metadata": {},
   "outputs": [],
   "source": [
    "import torch\n",
    "from torch.utils.data import Dataset\n",
    "from torch.utils.data.dataloader import DataLoader\n",
    "from utils import set_seed\n",
    "set_seed(3407)\n",
    "import pylab as plt\n",
    "import pandas as pd"
   ]
  },
  {
   "cell_type": "code",
   "execution_count": 14,
   "metadata": {},
   "outputs": [],
   "source": [
    "import pickle\n",
    "\n",
    "class TabularRegressionData(Dataset):\n",
    "    \"\"\" \n",
    "    Simple tabular data with 5 numerical features and 1 numerical response. \n",
    "    \"\"\"\n",
    "\n",
    "    def __init__(self, split, dimensions = 5):\n",
    "        assert split in {'train', 'test'}\n",
    "        self.split = split\n",
    "        self.dimensions = dimensions\n",
    "        \n",
    "    def __len__(self):\n",
    "        return 10000 # ...\n",
    "    \n",
    "    def __getitem__(self, idx):\n",
    "        x = torch.randn(5)\n",
    "        y = x[0] + (2 * x[2] * x[3]) - 3 * (x[4]**2)\n",
    "        x, y\n",
    "        return x, y\n"
   ]
  },
  {
   "cell_type": "code",
   "execution_count": 15,
   "metadata": {},
   "outputs": [],
   "source": [
    "class CSVLoader(Dataset):\n",
    "    def __init__(self, file_path, feature_cols, target_col, dimensions = 5):\n",
    "        \"\"\"\n",
    "        Args:\n",
    "            file_path (str): Path to the CSV file.\n",
    "            feature_cols (list of str): List of column names to be used as features.\n",
    "            target_col (str): Column name of the target variable.\n",
    "            transform (callable, optional): Optional transform to be applied on a sample.\n",
    "        \"\"\"\n",
    "        self.data_frame = pd.read_csv(file_path)\n",
    "        self.feature_cols = feature_cols\n",
    "        self.target_col = target_col\n",
    "        self.dimensions = dimensions\n",
    "        \n",
    "    def __len__(self):\n",
    "        return len(self.data_frame)\n",
    "\n",
    "    def __getitem__(self, idx):\n",
    "        if torch.is_tensor(idx):\n",
    "            idx = idx.tolist()\n",
    "        features = torch.tensor(self.data_frame.loc[idx, self.feature_cols].values.astype('float32'))\n",
    "        target = torch.tensor(self.data_frame.loc[idx, self.target_col], dtype = torch.float32)\n",
    "        return features, target\n",
    "\n"
   ]
  },
  {
   "cell_type": "code",
   "execution_count": 16,
   "metadata": {},
   "outputs": [
    {
     "name": "stdout",
     "output_type": "stream",
     "text": [
      "tensor([ 1.0971,  0.5328, -0.3311, -0.4458,  0.6679]) tensor(0.0541)\n",
      "tensor([ 0.7001, -0.8284,  2.1086, -1.0221, -1.3357]) tensor(-8.9628)\n"
     ]
    }
   ],
   "source": [
    "# print an example instance of the dataset\n",
    "train_dataset = TabularRegressionData('train')\n",
    "# train_dataset = CSVLoader(\n",
    "#         file_path='/home/research/dl/training_data.txt',  # Specify your CSV file path here\n",
    "#         feature_cols=['x0','x1','x2','x3','x4'],  # Specify the feature column names\n",
    "#         target_col='y'  # Specify the target column name\n",
    "#     )\n",
    "test_dataset = TabularRegressionData('test')\n",
    "x, y = train_dataset[0]\n",
    "print(x, y)\n",
    "x1, y1 = test_dataset[0]\n",
    "print(x1, y1)\n"
   ]
  },
  {
   "cell_type": "code",
   "execution_count": 17,
   "metadata": {},
   "outputs": [
    {
     "data": {
      "text/plain": [
       "(10000, 10000)"
      ]
     },
     "execution_count": 17,
     "metadata": {},
     "output_type": "execute_result"
    }
   ],
   "source": [
    "len(train_dataset), len(test_dataset)"
   ]
  },
  {
   "cell_type": "code",
   "execution_count": 18,
   "metadata": {},
   "outputs": [
    {
     "data": {
      "text/plain": [
       "(torch.float32, torch.float32, torch.float32, torch.float32)"
      ]
     },
     "execution_count": 18,
     "metadata": {},
     "output_type": "execute_result"
    }
   ],
   "source": [
    "x1.dtype, x.dtype, y1.dtype, y.dtype"
   ]
  },
  {
   "cell_type": "code",
   "execution_count": 19,
   "metadata": {},
   "outputs": [],
   "source": [
    "# create a GPT instance\n",
    "from model_ff import ffmodel\n",
    "\n",
    "model_config = ffmodel.get_default_config()\n",
    "model_config.input_size = 5\n",
    "model_config.use_dropout = False\n",
    "model_config.p_drop = 0.1\n",
    "model = ffmodel(model_config)"
   ]
  },
  {
   "cell_type": "code",
   "execution_count": 20,
   "metadata": {},
   "outputs": [
    {
     "name": "stdout",
     "output_type": "stream",
     "text": [
      "running on device cpu\n"
     ]
    }
   ],
   "source": [
    "# create a Trainer object\n",
    "from trainer import Trainer\n",
    "\n",
    "train_config = Trainer.get_default_config()\n",
    "train_config.learning_rate = 1e-5 # the model we're using is so small that we can go a bit faster\n",
    "train_config.max_iters = 20000\n",
    "train_config.num_workers = 0\n",
    "train_config.batch_size = 100\n",
    "train_config.eval_iters = 100\n",
    "trainer = Trainer(train_config, model, train_dataset, test_dataset)"
   ]
  },
  {
   "cell_type": "code",
   "execution_count": 21,
   "metadata": {},
   "outputs": [],
   "source": [
    "# def batch_end_callback(trainer):\n",
    "#     if trainer.iter_num % 100 == 0:\n",
    "#         print(f\"iter_dt {trainer.iter_dt * 1000:.2f}ms; iter {trainer.iter_num}: train loss {trainer.loss.item():.5f}\")\n",
    "        \n",
    "# #trainer.set_callback('on_batch_end', batch_end_callback)"
   ]
  },
  {
   "cell_type": "code",
   "execution_count": 22,
   "metadata": {},
   "outputs": [
    {
     "name": "stdout",
     "output_type": "stream",
     "text": [
      "iter_num 100  train_loss: 31.803904 , test_loss:  30.577251\n",
      "iter_num 200  train_loss: 29.76994 , test_loss:  28.672937\n",
      "iter_num 300  train_loss: 28.887783 , test_loss:  29.730352\n",
      "iter_num 400  train_loss: 29.572578 , test_loss:  29.258797\n",
      "iter_num 500  train_loss: 30.60438 , test_loss:  29.783764\n",
      "iter_num 600  train_loss: 30.131855 , test_loss:  30.104622\n",
      "iter_num 700  train_loss: 29.524748 , test_loss:  30.007761\n",
      "iter_num 800  train_loss: 29.074863 , test_loss:  30.061272\n",
      "iter_num 900  train_loss: 29.461426 , test_loss:  30.875261\n",
      "iter_num 1000  train_loss: 30.405994 , test_loss:  31.036053\n",
      "iter_num 1100  train_loss: 31.308107 , test_loss:  28.924332\n",
      "iter_num 1200  train_loss: 30.040394 , test_loss:  29.316622\n",
      "iter_num 1300  train_loss: 29.71911 , test_loss:  29.965767\n",
      "iter_num 1400  train_loss: 31.809877 , test_loss:  29.827873\n",
      "iter_num 1500  train_loss: 27.92838 , test_loss:  31.38329\n",
      "iter_num 1600  train_loss: 28.793568 , test_loss:  28.389343\n",
      "iter_num 1700  train_loss: 28.96799 , test_loss:  30.103317\n",
      "iter_num 1800  train_loss: 31.244085 , test_loss:  28.72915\n",
      "iter_num 1900  train_loss: 27.932161 , test_loss:  28.986933\n",
      "iter_num 2000  train_loss: 30.17959 , test_loss:  28.96664\n",
      "iter_num 2100  train_loss: 31.120937 , test_loss:  27.694788\n",
      "iter_num 2200  train_loss: 31.467606 , test_loss:  29.579615\n",
      "iter_num 2300  train_loss: 29.589775 , test_loss:  30.109034\n",
      "iter_num 2400  train_loss: 30.03907 , test_loss:  29.729395\n",
      "iter_num 2500  train_loss: 29.410664 , test_loss:  29.77853\n",
      "iter_num 2600  train_loss: 30.050735 , test_loss:  29.714302\n",
      "iter_num 2700  train_loss: 28.26635 , test_loss:  28.410254\n",
      "iter_num 2800  train_loss: 29.859556 , test_loss:  28.645391\n",
      "iter_num 2900  train_loss: 29.300804 , test_loss:  29.310785\n",
      "iter_num 3000  train_loss: 27.561762 , test_loss:  28.155743\n",
      "iter_num 3100  train_loss: 29.813137 , test_loss:  30.951448\n",
      "iter_num 3200  train_loss: 29.436716 , test_loss:  29.960749\n",
      "iter_num 3300  train_loss: 29.992048 , test_loss:  27.98745\n",
      "iter_num 3400  train_loss: 28.905283 , test_loss:  29.242966\n",
      "iter_num 3500  train_loss: 30.024763 , test_loss:  29.517395\n",
      "iter_num 3600  train_loss: 28.822199 , test_loss:  30.144154\n",
      "iter_num 3700  train_loss: 30.361 , test_loss:  29.37189\n",
      "iter_num 3800  train_loss: 28.60456 , test_loss:  28.39756\n",
      "iter_num 3900  train_loss: 28.47538 , test_loss:  30.649143\n",
      "iter_num 4000  train_loss: 27.67271 , test_loss:  30.595642\n",
      "iter_num 4100  train_loss: 28.271946 , test_loss:  29.418484\n",
      "iter_num 4200  train_loss: 29.568535 , test_loss:  30.053091\n",
      "iter_num 4300  train_loss: 28.77572 , test_loss:  28.640858\n",
      "iter_num 4400  train_loss: 29.008492 , test_loss:  28.93075\n",
      "iter_num 4500  train_loss: 28.204096 , test_loss:  30.420525\n",
      "iter_num 4600  train_loss: 29.322508 , test_loss:  28.685308\n",
      "iter_num 4700  train_loss: 28.41792 , test_loss:  27.845919\n",
      "iter_num 4800  train_loss: 28.385178 , test_loss:  28.20802\n",
      "iter_num 4900  train_loss: 28.724342 , test_loss:  28.452705\n",
      "iter_num 5000  train_loss: 26.408194 , test_loss:  30.039349\n",
      "iter_num 5100  train_loss: 29.023243 , test_loss:  28.320974\n",
      "iter_num 5200  train_loss: 28.452974 , test_loss:  27.41947\n",
      "iter_num 5300  train_loss: 27.87955 , test_loss:  28.376568\n",
      "iter_num 5400  train_loss: 28.068314 , test_loss:  28.97689\n",
      "iter_num 5500  train_loss: 28.47364 , test_loss:  28.388714\n",
      "iter_num 5600  train_loss: 28.710377 , test_loss:  27.716026\n",
      "iter_num 5700  train_loss: 29.267197 , test_loss:  28.037704\n",
      "iter_num 5800  train_loss: 27.698536 , test_loss:  28.93477\n",
      "iter_num 5900  train_loss: 28.227571 , test_loss:  27.146059\n",
      "iter_num 6000  train_loss: 28.65269 , test_loss:  27.887304\n",
      "iter_num 6100  train_loss: 27.61568 , test_loss:  27.381285\n",
      "iter_num 6200  train_loss: 26.936165 , test_loss:  27.33394\n",
      "iter_num 6300  train_loss: 27.008068 , test_loss:  29.371792\n",
      "iter_num 6400  train_loss: 27.072426 , test_loss:  28.58604\n",
      "iter_num 6500  train_loss: 26.910986 , test_loss:  27.896599\n",
      "iter_num 6600  train_loss: 26.542364 , test_loss:  28.096874\n",
      "iter_num 6700  train_loss: 26.331348 , test_loss:  26.77262\n",
      "iter_num 6800  train_loss: 28.706589 , test_loss:  28.541502\n",
      "iter_num 6900  train_loss: 26.288506 , test_loss:  26.617535\n",
      "iter_num 7000  train_loss: 26.708155 , test_loss:  27.662338\n",
      "iter_num 7100  train_loss: 25.440117 , test_loss:  27.20393\n",
      "iter_num 7200  train_loss: 26.143866 , test_loss:  27.094997\n",
      "iter_num 7300  train_loss: 27.242626 , test_loss:  28.035263\n",
      "iter_num 7400  train_loss: 26.906532 , test_loss:  26.505095\n",
      "iter_num 7500  train_loss: 25.906721 , test_loss:  26.39931\n",
      "iter_num 7600  train_loss: 27.76724 , test_loss:  25.92558\n",
      "iter_num 7700  train_loss: 26.646372 , test_loss:  26.626654\n",
      "iter_num 7800  train_loss: 27.898554 , test_loss:  27.005894\n",
      "iter_num 7900  train_loss: 26.396355 , test_loss:  26.784674\n",
      "iter_num 8000  train_loss: 26.077282 , test_loss:  26.872036\n",
      "iter_num 8100  train_loss: 27.425919 , test_loss:  28.245424\n",
      "iter_num 8200  train_loss: 24.922024 , test_loss:  26.344765\n",
      "iter_num 8300  train_loss: 26.24375 , test_loss:  26.624575\n",
      "iter_num 8400  train_loss: 26.6385 , test_loss:  27.138039\n",
      "iter_num 8500  train_loss: 26.056936 , test_loss:  25.188156\n",
      "iter_num 8600  train_loss: 26.26897 , test_loss:  25.992666\n",
      "iter_num 8700  train_loss: 25.95475 , test_loss:  26.304739\n",
      "iter_num 8800  train_loss: 27.832142 , test_loss:  25.676514\n",
      "iter_num 8900  train_loss: 26.384052 , test_loss:  25.608576\n",
      "iter_num 9000  train_loss: 25.789883 , test_loss:  27.097475\n",
      "iter_num 9100  train_loss: 27.672039 , test_loss:  26.847383\n",
      "iter_num 9200  train_loss: 26.712597 , test_loss:  25.45131\n",
      "iter_num 9300  train_loss: 26.323637 , test_loss:  25.052746\n",
      "iter_num 9400  train_loss: 25.206362 , test_loss:  25.556707\n",
      "iter_num 9500  train_loss: 25.190453 , test_loss:  25.465656\n",
      "iter_num 9600  train_loss: 24.533516 , test_loss:  26.262197\n",
      "iter_num 9700  train_loss: 26.327288 , test_loss:  24.879978\n",
      "iter_num 9800  train_loss: 23.890684 , test_loss:  24.486702\n",
      "iter_num 9900  train_loss: 25.872404 , test_loss:  27.420357\n",
      "iter_num 10000  train_loss: 25.23912 , test_loss:  25.987469\n",
      "iter_num 10100  train_loss: 24.7163 , test_loss:  25.85322\n",
      "iter_num 10200  train_loss: 24.371016 , test_loss:  26.451881\n",
      "iter_num 10300  train_loss: 24.369164 , test_loss:  24.82302\n",
      "iter_num 10400  train_loss: 25.294872 , test_loss:  24.42009\n",
      "iter_num 10500  train_loss: 25.425135 , test_loss:  25.25233\n",
      "iter_num 10600  train_loss: 24.241755 , test_loss:  24.926922\n",
      "iter_num 10700  train_loss: 25.629116 , test_loss:  25.05381\n",
      "iter_num 10800  train_loss: 25.927668 , test_loss:  24.66212\n",
      "iter_num 10900  train_loss: 24.265074 , test_loss:  23.531338\n",
      "iter_num 11000  train_loss: 23.117104 , test_loss:  25.164549\n",
      "iter_num 11100  train_loss: 25.147112 , test_loss:  23.886375\n",
      "iter_num 11200  train_loss: 23.569239 , test_loss:  23.185562\n",
      "iter_num 11300  train_loss: 24.894947 , test_loss:  26.321484\n",
      "iter_num 11400  train_loss: 23.498146 , test_loss:  24.926302\n",
      "iter_num 11500  train_loss: 23.037283 , test_loss:  24.55959\n",
      "iter_num 11600  train_loss: 24.968193 , test_loss:  23.733389\n",
      "iter_num 11700  train_loss: 22.268953 , test_loss:  23.974327\n",
      "iter_num 11800  train_loss: 25.147789 , test_loss:  22.91322\n",
      "iter_num 11900  train_loss: 23.989422 , test_loss:  24.612495\n",
      "iter_num 12000  train_loss: 23.494753 , test_loss:  24.274538\n",
      "iter_num 12100  train_loss: 24.49947 , test_loss:  24.067295\n",
      "iter_num 12200  train_loss: 23.015242 , test_loss:  23.972113\n",
      "iter_num 12300  train_loss: 22.791468 , test_loss:  21.877361\n",
      "iter_num 12400  train_loss: 22.232498 , test_loss:  22.129623\n",
      "iter_num 12500  train_loss: 22.301567 , test_loss:  22.53379\n",
      "iter_num 12600  train_loss: 23.53152 , test_loss:  22.995214\n",
      "iter_num 12700  train_loss: 23.502531 , test_loss:  22.921816\n",
      "iter_num 12800  train_loss: 23.39679 , test_loss:  24.156631\n",
      "iter_num 12900  train_loss: 23.16231 , test_loss:  24.056448\n",
      "iter_num 13000  train_loss: 23.068924 , test_loss:  22.737364\n",
      "iter_num 13100  train_loss: 22.495184 , test_loss:  21.515352\n",
      "iter_num 13200  train_loss: 23.851109 , test_loss:  22.815063\n",
      "iter_num 13300  train_loss: 21.717827 , test_loss:  23.814009\n",
      "iter_num 13400  train_loss: 22.695074 , test_loss:  22.01325\n",
      "iter_num 13500  train_loss: 23.107088 , test_loss:  22.25747\n",
      "iter_num 13600  train_loss: 22.665062 , test_loss:  24.37652\n",
      "iter_num 13700  train_loss: 22.336723 , test_loss:  23.211252\n",
      "iter_num 13800  train_loss: 21.831358 , test_loss:  23.67353\n",
      "iter_num 13900  train_loss: 21.806799 , test_loss:  22.450682\n",
      "iter_num 14000  train_loss: 21.989756 , test_loss:  22.46966\n",
      "iter_num 14100  train_loss: 22.412321 , test_loss:  21.654709\n",
      "iter_num 14200  train_loss: 21.390083 , test_loss:  21.51962\n",
      "iter_num 14300  train_loss: 22.07189 , test_loss:  22.952602\n",
      "iter_num 14400  train_loss: 21.121914 , test_loss:  21.531479\n",
      "iter_num 14500  train_loss: 21.302671 , test_loss:  21.986134\n",
      "iter_num 14600  train_loss: 21.52569 , test_loss:  22.855495\n",
      "iter_num 14700  train_loss: 21.631418 , test_loss:  22.047218\n",
      "iter_num 14800  train_loss: 21.71376 , test_loss:  21.413435\n",
      "iter_num 14900  train_loss: 21.900389 , test_loss:  21.82282\n",
      "iter_num 15000  train_loss: 22.420374 , test_loss:  21.861164\n",
      "iter_num 15100  train_loss: 21.744318 , test_loss:  22.686428\n",
      "iter_num 15200  train_loss: 21.045124 , test_loss:  21.847778\n",
      "iter_num 15300  train_loss: 22.802767 , test_loss:  21.247452\n",
      "iter_num 15400  train_loss: 21.80233 , test_loss:  21.425005\n",
      "iter_num 15500  train_loss: 21.47831 , test_loss:  20.470844\n",
      "iter_num 15600  train_loss: 21.14272 , test_loss:  21.67289\n",
      "iter_num 15700  train_loss: 21.113476 , test_loss:  22.15251\n",
      "iter_num 15800  train_loss: 21.478306 , test_loss:  21.842497\n",
      "iter_num 15900  train_loss: 20.849777 , test_loss:  21.494482\n",
      "iter_num 16000  train_loss: 21.944609 , test_loss:  22.176516\n",
      "iter_num 16100  train_loss: 20.778322 , test_loss:  20.43409\n",
      "iter_num 16200  train_loss: 21.736414 , test_loss:  21.028923\n",
      "iter_num 16300  train_loss: 22.329546 , test_loss:  22.13186\n",
      "iter_num 16400  train_loss: 20.857718 , test_loss:  21.371092\n",
      "iter_num 16500  train_loss: 20.475286 , test_loss:  20.773428\n",
      "iter_num 16600  train_loss: 21.478743 , test_loss:  19.890099\n",
      "iter_num 16700  train_loss: 20.254879 , test_loss:  20.182388\n",
      "iter_num 16800  train_loss: 21.665222 , test_loss:  21.053154\n",
      "iter_num 16900  train_loss: 20.757278 , test_loss:  21.652763\n",
      "iter_num 17000  train_loss: 20.498302 , test_loss:  19.331799\n",
      "iter_num 17100  train_loss: 21.105629 , test_loss:  21.060266\n",
      "iter_num 17200  train_loss: 20.273422 , test_loss:  20.214634\n",
      "iter_num 17300  train_loss: 20.300617 , test_loss:  21.577028\n",
      "iter_num 17400  train_loss: 20.391628 , test_loss:  20.271652\n",
      "iter_num 17500  train_loss: 19.782919 , test_loss:  20.321043\n",
      "iter_num 17600  train_loss: 21.178112 , test_loss:  21.204025\n",
      "iter_num 17700  train_loss: 22.011988 , test_loss:  19.60896\n",
      "iter_num 17800  train_loss: 21.136038 , test_loss:  19.523966\n",
      "iter_num 17900  train_loss: 20.685759 , test_loss:  20.636206\n",
      "iter_num 18000  train_loss: 19.747112 , test_loss:  21.032154\n",
      "iter_num 18100  train_loss: 20.40683 , test_loss:  20.511316\n",
      "iter_num 18200  train_loss: 21.128359 , test_loss:  20.230284\n",
      "iter_num 18300  train_loss: 20.509476 , test_loss:  20.772999\n",
      "iter_num 18400  train_loss: 19.93054 , test_loss:  19.991747\n",
      "iter_num 18500  train_loss: 19.310692 , test_loss:  20.209173\n",
      "iter_num 18600  train_loss: 19.370207 , test_loss:  19.68821\n",
      "iter_num 18700  train_loss: 21.243105 , test_loss:  19.95621\n",
      "iter_num 18800  train_loss: 18.939014 , test_loss:  19.574646\n",
      "iter_num 18900  train_loss: 20.140408 , test_loss:  20.236933\n",
      "iter_num 19000  train_loss: 19.828184 , test_loss:  19.64089\n",
      "iter_num 19100  train_loss: 20.680523 , test_loss:  20.936333\n",
      "iter_num 19200  train_loss: 18.911003 , test_loss:  18.00031\n",
      "iter_num 19300  train_loss: 20.42035 , test_loss:  20.021954\n",
      "iter_num 19400  train_loss: 20.099937 , test_loss:  20.228241\n",
      "iter_num 19500  train_loss: 20.53825 , test_loss:  19.769375\n",
      "iter_num 19600  train_loss: 19.673605 , test_loss:  20.04679\n",
      "iter_num 19700  train_loss: 20.164598 , test_loss:  20.151518\n",
      "iter_num 19800  train_loss: 19.341722 , test_loss:  18.260569\n",
      "iter_num 19900  train_loss: 20.372704 , test_loss:  19.881372\n",
      "iter_num 20000  train_loss: 20.278124 , test_loss:  19.941185\n"
     ]
    }
   ],
   "source": [
    "trainer.run()"
   ]
  },
  {
   "cell_type": "code",
   "execution_count": 23,
   "metadata": {},
   "outputs": [],
   "source": [
    "dftrain = pd.DataFrame(trainer.train_losses)\n",
    "dftrain.columns = ['batches','loss']\n",
    "\n",
    "dftest = pd.DataFrame(trainer.test_losses)\n",
    "dftest.columns = ['batches','loss']"
   ]
  },
  {
   "cell_type": "code",
   "execution_count": 24,
   "metadata": {},
   "outputs": [
    {
     "data": {
      "text/plain": [
       "<matplotlib.legend.Legend at 0x7f32d3237670>"
      ]
     },
     "execution_count": 24,
     "metadata": {},
     "output_type": "execute_result"
    },
    {
     "data": {
      "image/png": "[encoded data removed]",
      "text/plain": [
       "<Figure size 640x480 with 1 Axes>"
      ]
     },
     "metadata": {},
     "output_type": "display_data"
    }
   ],
   "source": [
    "plt.plot(list(dftrain.batches), list(dftrain.loss))\n",
    "plt.plot(list(dftest.batches), list(dftest.loss))\n",
    "plt.legend(['train loss','test_loss'])"
   ]
  },
  {
   "cell_type": "code",
   "execution_count": null,
   "metadata": {},
   "outputs": [],
   "source": []
  },
  {
   "cell_type": "code",
   "execution_count": null,
   "metadata": {},
   "outputs": [],
   "source": []
  }
 ],
 "metadata": {
  "kernelspec": {
   "display_name": "Python 3 (ipykernel)",
   "language": "python",
   "name": "python3"
  },
  "language_info": {
   "codemirror_mode": {
    "name": "ipython",
    "version": 3
   },
   "file_extension": ".py",
   "mimetype": "text/x-python",
   "name": "python",
   "nbconvert_exporter": "python",
   "pygments_lexer": "ipython3",
   "version": "3.10.12"
  },
  "vscode": {
   "interpreter": {
    "hash": "3ad933181bd8a04b432d3370b9dc3b0662ad032c4dfaa4e4f1596c548f763858"
   }
  }
 },
 "nbformat": 4,
 "nbformat_minor": 4
}
