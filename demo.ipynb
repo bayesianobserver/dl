{
 "cells": [
  {
   "cell_type": "code",
   "execution_count": 1,
   "metadata": {},
   "outputs": [],
   "source": [
    "import torch\n",
    "from torch.utils.data import Dataset\n",
    "from torch.utils.data.dataloader import DataLoader\n",
    "from utils import set_seed\n",
    "import sys\n",
    "set_seed(3407)\n",
    "import pylab as plt\n",
    "import pandas as pd"
   ]
  },
  {
   "cell_type": "code",
   "execution_count": 2,
   "metadata": {},
   "outputs": [
    {
     "name": "stderr",
     "output_type": "stream",
     "text": [
      "2024-04-29 14:39:49.292846: I tensorflow/core/platform/cpu_feature_guard.cc:193] This TensorFlow binary is optimized with oneAPI Deep Neural Network Library (oneDNN) to use the following CPU instructions in performance-critical operations:  AVX2 FMA\n",
      "To enable them in other operations, rebuild TensorFlow with the appropriate compiler flags.\n",
      "2024-04-29 14:39:49.461075: W tensorflow/compiler/xla/stream_executor/platform/default/dso_loader.cc:64] Could not load dynamic library 'libcudart.so.11.0'; dlerror: libcudart.so.11.0: cannot open shared object file: No such file or directory\n",
      "2024-04-29 14:39:49.461096: I tensorflow/compiler/xla/stream_executor/cuda/cudart_stub.cc:29] Ignore above cudart dlerror if you do not have a GPU set up on your machine.\n",
      "2024-04-29 14:39:50.130597: W tensorflow/compiler/xla/stream_executor/platform/default/dso_loader.cc:64] Could not load dynamic library 'libnvinfer.so.7'; dlerror: libnvinfer.so.7: cannot open shared object file: No such file or directory\n",
      "2024-04-29 14:39:50.130675: W tensorflow/compiler/xla/stream_executor/platform/default/dso_loader.cc:64] Could not load dynamic library 'libnvinfer_plugin.so.7'; dlerror: libnvinfer_plugin.so.7: cannot open shared object file: No such file or directory\n",
      "2024-04-29 14:39:50.130682: W tensorflow/compiler/tf2tensorrt/utils/py_utils.cc:38] TF-TRT Warning: Cannot dlopen some TensorRT libraries. If you would like to use Nvidia GPU with TensorRT, please make sure the missing libraries mentioned above are installed properly.\n"
     ]
    }
   ],
   "source": [
    "import torch\n",
    "from torch.utils.tensorboard import SummaryWriter\n",
    "writer = SummaryWriter()"
   ]
  },
  {
   "cell_type": "code",
   "execution_count": 17,
   "metadata": {},
   "outputs": [],
   "source": [
    "import pickle\n",
    "\n",
    "class TabularRegressionData(Dataset):\n",
    "    \"\"\" \n",
    "    Simple tabular data with 5 numerical features and 1 numerical response. \n",
    "    \"\"\"\n",
    "\n",
    "    def __init__(self, split, dimensions = 5):\n",
    "        assert split in {'train', 'test'}\n",
    "        self.split = split\n",
    "        self.dimensions = dimensions\n",
    "        \n",
    "    def __len__(self):\n",
    "        return 10000 # ...\n",
    "    \n",
    "    def __getitem__(self, idx):\n",
    "        x = torch.randn(5)\n",
    "        y = -3.15 + x[0] + (2 * x[2] * x[3]) - 30.1 * (x[4]**3)\n",
    "        x, y\n",
    "        return x, y\n"
   ]
  },
  {
   "cell_type": "code",
   "execution_count": 18,
   "metadata": {},
   "outputs": [],
   "source": [
    "class CSVLoader(Dataset):\n",
    "    def __init__(self, file_path, feature_cols, target_col, dimensions = 5):\n",
    "        \"\"\"\n",
    "        Args:\n",
    "            file_path (str): Path to the CSV file.\n",
    "            feature_cols (list of str): List of column names to be used as features.\n",
    "            target_col (str): Column name of the target variable.\n",
    "            transform (callable, optional): Optional transform to be applied on a sample.\n",
    "        \"\"\"\n",
    "        self.data_frame = pd.read_csv(file_path)\n",
    "        self.feature_cols = feature_cols\n",
    "        self.target_col = target_col\n",
    "        self.dimensions = dimensions\n",
    "        \n",
    "    def __len__(self):\n",
    "        return len(self.data_frame)\n",
    "\n",
    "    def __getitem__(self, idx):\n",
    "        if torch.is_tensor(idx):\n",
    "            idx = idx.tolist()\n",
    "        features = torch.tensor(self.data_frame.loc[idx, self.feature_cols].values.astype('float32'))\n",
    "        target = torch.tensor(self.data_frame.loc[idx, self.target_col], dtype = torch.float32)\n",
    "        return features, target\n",
    "\n"
   ]
  },
  {
   "cell_type": "code",
   "execution_count": 19,
   "metadata": {},
   "outputs": [
    {
     "name": "stdout",
     "output_type": "stream",
     "text": [
      "tensor([ 0.3644, -0.5218,  0.1074,  1.7378,  0.4339]) tensor(-4.8713)\n",
      "tensor([-0.4259, -1.2831,  1.2274,  0.0824, -0.4344]) tensor(-0.9058)\n"
     ]
    }
   ],
   "source": [
    "# print an example instance of the dataset\n",
    "train_dataset = TabularRegressionData('train')\n",
    "# train_dataset = CSVLoader(\n",
    "#         file_path='/home/suhas/research/dl/training_data.txt',  # Specify your CSV file path here\n",
    "#         feature_cols=['x0','x1','x2','x3','x4'],  # Specify the feature column names\n",
    "#         target_col='y'  # Specify the target column name\n",
    "#     )\n",
    "\n",
    "test_dataset = TabularRegressionData('test')\n",
    "x, y = train_dataset[0]\n",
    "print(x, y)\n",
    "x1, y1 = test_dataset[0]\n",
    "print(x1, y1)\n"
   ]
  },
  {
   "cell_type": "code",
   "execution_count": 20,
   "metadata": {},
   "outputs": [
    {
     "data": {
      "text/plain": [
       "(10000, 10000)"
      ]
     },
     "execution_count": 20,
     "metadata": {},
     "output_type": "execute_result"
    }
   ],
   "source": [
    "len(train_dataset), len(test_dataset)"
   ]
  },
  {
   "cell_type": "code",
   "execution_count": 21,
   "metadata": {},
   "outputs": [
    {
     "data": {
      "text/plain": [
       "(48, 48)"
      ]
     },
     "execution_count": 21,
     "metadata": {},
     "output_type": "execute_result"
    }
   ],
   "source": [
    "sys.getsizeof(train_dataset), sys.getsizeof(test_dataset)"
   ]
  },
  {
   "cell_type": "code",
   "execution_count": 22,
   "metadata": {},
   "outputs": [
    {
     "data": {
      "text/plain": [
       "(torch.float32, torch.float32, torch.float32, torch.float32)"
      ]
     },
     "execution_count": 22,
     "metadata": {},
     "output_type": "execute_result"
    }
   ],
   "source": [
    "x1.dtype, x.dtype, y1.dtype, y.dtype"
   ]
  },
  {
   "cell_type": "code",
   "execution_count": 23,
   "metadata": {},
   "outputs": [],
   "source": [
    "# create a GPT instance\n",
    "from model_ff import ffmodel\n",
    "\n",
    "model_config = ffmodel.get_default_config()\n",
    "model_config.input_size = 5\n",
    "model_config.use_dropout = False\n",
    "model_config.p_drop = 0.1\n",
    "model = ffmodel(model_config)"
   ]
  },
  {
   "cell_type": "code",
   "execution_count": 24,
   "metadata": {},
   "outputs": [
    {
     "name": "stdout",
     "output_type": "stream",
     "text": [
      "running on device cpu\n"
     ]
    }
   ],
   "source": [
    "# create a Trainer object\n",
    "from trainer import Trainer\n",
    "\n",
    "train_config = Trainer.get_default_config()\n",
    "train_config.learning_rate = 3e-4 # the model we're using is so small that we can go a bit faster\n",
    "train_config.max_iters = 20000\n",
    "train_config.num_workers = 0\n",
    "train_config.batch_size = 100\n",
    "train_config.eval_iters = 100\n",
    "trainer = Trainer(train_config, model, train_dataset, test_dataset)"
   ]
  },
  {
   "cell_type": "code",
   "execution_count": 25,
   "metadata": {},
   "outputs": [],
   "source": [
    "# def batch_end_callback(trainer):\n",
    "#     if trainer.iter_num % 100 == 0:\n",
    "#         print(f\"iter_dt {trainer.iter_dt * 1000:.2f}ms; iter {trainer.iter_num}: train loss {trainer.loss.item():.5f}\")\n",
    "        \n",
    "# #trainer.set_callback('on_batch_end', batch_end_callback)"
   ]
  },
  {
   "cell_type": "code",
   "execution_count": 13,
   "metadata": {},
   "outputs": [
    {
     "name": "stdout",
     "output_type": "stream",
     "text": [
      "iter_num 100  train_loss: 33.029514 , test_loss:  34.152725\n",
      "iter_num 200  train_loss: 31.898632 , test_loss:  31.190758\n",
      "iter_num 300  train_loss: 29.328465 , test_loss:  28.744173\n",
      "iter_num 400  train_loss: 26.682009 , test_loss:  26.27347\n",
      "iter_num 500  train_loss: 24.79155 , test_loss:  24.02762\n",
      "iter_num 600  train_loss: 19.884602 , test_loss:  20.982002\n",
      "iter_num 700  train_loss: 18.689886 , test_loss:  18.223152\n",
      "iter_num 800  train_loss: 17.469118 , test_loss:  16.334637\n",
      "iter_num 900  train_loss: 16.395662 , test_loss:  16.49253\n",
      "iter_num 1000  train_loss: 14.788095 , test_loss:  14.4229965\n",
      "iter_num 1100  train_loss: 13.494718 , test_loss:  12.508481\n",
      "iter_num 1200  train_loss: 10.910855 , test_loss:  11.248532\n",
      "iter_num 1300  train_loss: 9.472439 , test_loss:  10.04985\n",
      "iter_num 1400  train_loss: 7.967482 , test_loss:  8.480682\n",
      "iter_num 1500  train_loss: 6.4029703 , test_loss:  6.771177\n",
      "iter_num 1600  train_loss: 5.6176047 , test_loss:  5.6334057\n",
      "iter_num 1700  train_loss: 4.9197235 , test_loss:  4.895636\n",
      "iter_num 1800  train_loss: 3.9822552 , test_loss:  4.2769756\n",
      "iter_num 1900  train_loss: 3.7702723 , test_loss:  3.8386352\n",
      "iter_num 2000  train_loss: 3.7800093 , test_loss:  3.2651064\n",
      "iter_num 2100  train_loss: 3.519672 , test_loss:  3.3233044\n",
      "iter_num 2200  train_loss: 3.09725 , test_loss:  3.2257538\n",
      "iter_num 2300  train_loss: 2.8628023 , test_loss:  3.0784447\n",
      "iter_num 2400  train_loss: 2.8235095 , test_loss:  3.086061\n",
      "iter_num 2500  train_loss: 2.811402 , test_loss:  2.9340286\n",
      "iter_num 2600  train_loss: 2.8552282 , test_loss:  2.7057886\n",
      "iter_num 2700  train_loss: 2.7350814 , test_loss:  2.7932434\n",
      "iter_num 2800  train_loss: 2.4824224 , test_loss:  2.6834762\n",
      "iter_num 2900  train_loss: 2.8402717 , test_loss:  2.58772\n",
      "iter_num 3000  train_loss: 2.653243 , test_loss:  2.61694\n",
      "iter_num 3100  train_loss: 2.7284136 , test_loss:  2.6987002\n",
      "iter_num 3200  train_loss: 2.562344 , test_loss:  2.6052945\n",
      "iter_num 3300  train_loss: 2.6064582 , test_loss:  2.678032\n",
      "iter_num 3400  train_loss: 2.5747356 , test_loss:  2.5165832\n",
      "iter_num 3500  train_loss: 2.4002738 , test_loss:  2.5078678\n",
      "iter_num 3600  train_loss: 2.573723 , test_loss:  2.465667\n",
      "iter_num 3700  train_loss: 2.581133 , test_loss:  2.6370456\n",
      "iter_num 3800  train_loss: 2.4231272 , test_loss:  2.4915304\n",
      "iter_num 3900  train_loss: 2.391597 , test_loss:  2.4746017\n",
      "iter_num 4000  train_loss: 2.5677693 , test_loss:  2.354601\n",
      "iter_num 4100  train_loss: 2.564495 , test_loss:  2.3067367\n",
      "iter_num 4200  train_loss: 2.2516875 , test_loss:  2.4241683\n",
      "iter_num 4300  train_loss: 2.2718418 , test_loss:  2.4890933\n",
      "iter_num 4400  train_loss: 2.2372248 , test_loss:  2.4196632\n",
      "iter_num 4500  train_loss: 2.3187742 , test_loss:  2.3703156\n",
      "iter_num 4600  train_loss: 2.3532267 , test_loss:  2.3929858\n",
      "iter_num 4700  train_loss: 2.301136 , test_loss:  2.475674\n",
      "iter_num 4800  train_loss: 2.328914 , test_loss:  2.359112\n",
      "iter_num 4900  train_loss: 2.3727958 , test_loss:  2.225071\n",
      "iter_num 5000  train_loss: 2.347854 , test_loss:  2.3633797\n",
      "iter_num 5100  train_loss: 2.1717634 , test_loss:  2.2679894\n",
      "iter_num 5200  train_loss: 2.284653 , test_loss:  2.277961\n",
      "iter_num 5300  train_loss: 2.1145318 , test_loss:  2.2264106\n",
      "iter_num 5400  train_loss: 2.2527387 , test_loss:  2.2605631\n",
      "iter_num 5500  train_loss: 2.3196685 , test_loss:  2.372295\n",
      "iter_num 5600  train_loss: 2.192723 , test_loss:  2.373446\n",
      "iter_num 5700  train_loss: 2.280344 , test_loss:  2.1190217\n",
      "iter_num 5800  train_loss: 2.2264225 , test_loss:  2.2498245\n",
      "iter_num 5900  train_loss: 2.1265762 , test_loss:  2.297419\n",
      "iter_num 6000  train_loss: 2.2090898 , test_loss:  2.2524254\n",
      "iter_num 6100  train_loss: 2.1736984 , test_loss:  2.1085632\n",
      "iter_num 6200  train_loss: 2.2377014 , test_loss:  2.3284779\n",
      "iter_num 6300  train_loss: 2.3306267 , test_loss:  2.2342584\n",
      "iter_num 6400  train_loss: 2.1641238 , test_loss:  2.2755458\n",
      "iter_num 6500  train_loss: 2.1685572 , test_loss:  2.2036753\n",
      "iter_num 6600  train_loss: 2.1995242 , test_loss:  2.1949952\n",
      "iter_num 6700  train_loss: 2.1439016 , test_loss:  2.1303203\n",
      "iter_num 6800  train_loss: 2.2430317 , test_loss:  2.2045925\n",
      "iter_num 6900  train_loss: 2.174344 , test_loss:  2.1790566\n",
      "iter_num 7000  train_loss: 2.12485 , test_loss:  2.1461654\n",
      "iter_num 7100  train_loss: 2.0669985 , test_loss:  2.0584905\n",
      "iter_num 7200  train_loss: 2.2242 , test_loss:  2.1137214\n",
      "iter_num 7300  train_loss: 2.0665405 , test_loss:  2.2633138\n",
      "iter_num 7400  train_loss: 2.1361325 , test_loss:  2.183687\n",
      "iter_num 7500  train_loss: 2.116956 , test_loss:  2.2627282\n",
      "iter_num 7600  train_loss: 2.0317867 , test_loss:  1.9923735\n",
      "iter_num 7700  train_loss: 1.9636118 , test_loss:  2.1189857\n",
      "iter_num 7800  train_loss: 2.257507 , test_loss:  2.1839876\n",
      "iter_num 7900  train_loss: 2.0962381 , test_loss:  2.2497525\n",
      "iter_num 8000  train_loss: 2.1145697 , test_loss:  2.0789979\n",
      "iter_num 8100  train_loss: 2.2614837 , test_loss:  2.1151462\n",
      "iter_num 8200  train_loss: 2.1112192 , test_loss:  2.0895147\n",
      "iter_num 8300  train_loss: 2.2410579 , test_loss:  2.1071756\n",
      "iter_num 8400  train_loss: 2.0517797 , test_loss:  2.0214944\n",
      "iter_num 8500  train_loss: 2.0404649 , test_loss:  2.0791848\n",
      "iter_num 8600  train_loss: 2.1387887 , test_loss:  2.1166584\n",
      "iter_num 8700  train_loss: 2.0879426 , test_loss:  2.065582\n",
      "iter_num 8800  train_loss: 2.0846286 , test_loss:  2.0969176\n",
      "iter_num 8900  train_loss: 2.2376075 , test_loss:  2.2004886\n",
      "iter_num 9000  train_loss: 2.2094076 , test_loss:  1.9986726\n",
      "iter_num 9100  train_loss: 2.1209583 , test_loss:  2.0753088\n",
      "iter_num 9200  train_loss: 2.0249705 , test_loss:  2.1954725\n",
      "iter_num 9300  train_loss: 2.0911288 , test_loss:  2.0049534\n",
      "iter_num 9400  train_loss: 2.102752 , test_loss:  2.1314266\n",
      "iter_num 9500  train_loss: 2.1539886 , test_loss:  2.116775\n",
      "iter_num 9600  train_loss: 2.1159983 , test_loss:  2.115294\n",
      "iter_num 9700  train_loss: 2.1329648 , test_loss:  2.1482623\n",
      "iter_num 9800  train_loss: 2.1158128 , test_loss:  2.1051707\n",
      "iter_num 9900  train_loss: 2.1466453 , test_loss:  2.1751008\n",
      "iter_num 10000  train_loss: 2.1218455 , test_loss:  2.185356\n",
      "iter_num 10100  train_loss: 2.1475177 , test_loss:  2.0737936\n",
      "iter_num 10200  train_loss: 2.1247735 , test_loss:  2.0647123\n",
      "iter_num 10300  train_loss: 2.0182576 , test_loss:  2.1180298\n",
      "iter_num 10400  train_loss: 2.1354723 , test_loss:  2.0674052\n",
      "iter_num 10500  train_loss: 2.1851792 , test_loss:  2.1688812\n",
      "iter_num 10600  train_loss: 2.0475223 , test_loss:  2.0646594\n",
      "iter_num 10700  train_loss: 1.9552823 , test_loss:  2.2028565\n",
      "iter_num 10800  train_loss: 2.041215 , test_loss:  2.2102435\n",
      "iter_num 10900  train_loss: 1.9785296 , test_loss:  2.0431201\n",
      "iter_num 11000  train_loss: 2.0095646 , test_loss:  2.2713766\n",
      "iter_num 11100  train_loss: 2.0003078 , test_loss:  2.1811101\n",
      "iter_num 11200  train_loss: 2.088043 , test_loss:  2.0663068\n",
      "iter_num 11300  train_loss: 2.0595038 , test_loss:  2.2285204\n",
      "iter_num 11400  train_loss: 2.0480914 , test_loss:  2.1250541\n",
      "iter_num 11500  train_loss: 2.0661125 , test_loss:  2.014274\n",
      "iter_num 11600  train_loss: 2.014996 , test_loss:  2.0923176\n",
      "iter_num 11700  train_loss: 2.037028 , test_loss:  2.0394235\n",
      "iter_num 11800  train_loss: 2.0716949 , test_loss:  2.2069433\n",
      "iter_num 11900  train_loss: 2.1418853 , test_loss:  2.1263041\n",
      "iter_num 12000  train_loss: 2.1546762 , test_loss:  2.058655\n",
      "iter_num 12100  train_loss: 2.049041 , test_loss:  2.1194777\n",
      "iter_num 12200  train_loss: 1.948933 , test_loss:  2.0640645\n",
      "iter_num 12300  train_loss: 1.9829696 , test_loss:  2.206235\n",
      "iter_num 12400  train_loss: 2.032452 , test_loss:  2.1384058\n",
      "iter_num 12500  train_loss: 2.1737843 , test_loss:  2.215691\n",
      "iter_num 12600  train_loss: 2.015762 , test_loss:  2.077208\n",
      "iter_num 12700  train_loss: 2.1077023 , test_loss:  2.0362277\n",
      "iter_num 12800  train_loss: 2.0171547 , test_loss:  1.9962859\n",
      "iter_num 12900  train_loss: 2.0016603 , test_loss:  2.030465\n",
      "iter_num 13000  train_loss: 1.8783652 , test_loss:  2.1798337\n",
      "iter_num 13100  train_loss: 2.0217786 , test_loss:  2.1309571\n",
      "iter_num 13200  train_loss: 2.060578 , test_loss:  1.9739904\n",
      "iter_num 13300  train_loss: 2.0772874 , test_loss:  2.1396122\n",
      "iter_num 13400  train_loss: 2.111793 , test_loss:  1.9764127\n",
      "iter_num 13500  train_loss: 2.1500988 , test_loss:  2.033668\n",
      "iter_num 13600  train_loss: 2.0769727 , test_loss:  2.0186508\n",
      "iter_num 13700  train_loss: 2.1268976 , test_loss:  2.1374\n",
      "iter_num 13800  train_loss: 2.049167 , test_loss:  1.9952587\n",
      "iter_num 13900  train_loss: 2.1469548 , test_loss:  2.1097026\n",
      "iter_num 14000  train_loss: 2.0200932 , test_loss:  2.088662\n",
      "iter_num 14100  train_loss: 2.1162522 , test_loss:  2.063086\n",
      "iter_num 14200  train_loss: 2.033088 , test_loss:  2.065388\n",
      "iter_num 14300  train_loss: 2.2248056 , test_loss:  2.1428013\n",
      "iter_num 14400  train_loss: 2.0172985 , test_loss:  1.9540575\n",
      "iter_num 14500  train_loss: 2.1332407 , test_loss:  2.199419\n",
      "iter_num 14600  train_loss: 1.9249327 , test_loss:  2.2164576\n",
      "iter_num 14700  train_loss: 2.0407667 , test_loss:  2.1198287\n",
      "iter_num 14800  train_loss: 2.0223382 , test_loss:  2.0623574\n",
      "iter_num 14900  train_loss: 1.98143 , test_loss:  1.9312099\n",
      "iter_num 15000  train_loss: 2.0762556 , test_loss:  1.9425116\n",
      "iter_num 15100  train_loss: 1.990324 , test_loss:  2.0122557\n",
      "iter_num 15200  train_loss: 1.9975915 , test_loss:  2.1042197\n",
      "iter_num 15300  train_loss: 2.0268517 , test_loss:  2.0537293\n",
      "iter_num 15400  train_loss: 2.09908 , test_loss:  1.9895171\n",
      "iter_num 15500  train_loss: 2.0917115 , test_loss:  2.088703\n",
      "iter_num 15600  train_loss: 2.0939991 , test_loss:  2.1169655\n",
      "iter_num 15700  train_loss: 2.012316 , test_loss:  2.0483031\n",
      "iter_num 15800  train_loss: 2.0219655 , test_loss:  2.0621574\n",
      "iter_num 15900  train_loss: 2.121379 , test_loss:  2.1151907\n",
      "iter_num 16000  train_loss: 2.0761497 , test_loss:  2.0021217\n",
      "iter_num 16100  train_loss: 2.1651452 , test_loss:  2.0685449\n",
      "iter_num 16200  train_loss: 2.1607134 , test_loss:  2.1707249\n",
      "iter_num 16300  train_loss: 2.0176873 , test_loss:  2.1868584\n",
      "iter_num 16400  train_loss: 1.978906 , test_loss:  2.0830927\n",
      "iter_num 16500  train_loss: 2.0840914 , test_loss:  2.1648595\n",
      "iter_num 16600  train_loss: 1.9986817 , test_loss:  2.0070908\n",
      "iter_num 16700  train_loss: 2.128397 , test_loss:  2.0204787\n",
      "iter_num 16800  train_loss: 1.9775223 , test_loss:  1.9780617\n",
      "iter_num 16900  train_loss: 2.1044767 , test_loss:  2.0378091\n",
      "iter_num 17000  train_loss: 2.0288315 , test_loss:  2.0408819\n",
      "iter_num 17100  train_loss: 2.1156366 , test_loss:  2.1365287\n",
      "iter_num 17200  train_loss: 1.9105647 , test_loss:  2.0249903\n",
      "iter_num 17300  train_loss: 1.9882519 , test_loss:  2.1860485\n",
      "iter_num 17400  train_loss: 1.9078839 , test_loss:  2.1186063\n",
      "iter_num 17500  train_loss: 2.1386697 , test_loss:  2.036101\n",
      "iter_num 17600  train_loss: 2.1905425 , test_loss:  2.0072486\n",
      "iter_num 17700  train_loss: 2.0909774 , test_loss:  1.9635853\n",
      "iter_num 17800  train_loss: 2.1008496 , test_loss:  2.054296\n",
      "iter_num 17900  train_loss: 2.009701 , test_loss:  1.9136362\n",
      "iter_num 18000  train_loss: 2.1316068 , test_loss:  2.0924473\n",
      "iter_num 18100  train_loss: 2.0979414 , test_loss:  2.124843\n",
      "iter_num 18200  train_loss: 2.146574 , test_loss:  2.054552\n",
      "iter_num 18300  train_loss: 2.0210762 , test_loss:  2.0026484\n",
      "iter_num 18400  train_loss: 2.0808468 , test_loss:  2.0242312\n",
      "iter_num 18500  train_loss: 2.1210685 , test_loss:  2.0187483\n",
      "iter_num 18600  train_loss: 2.0912807 , test_loss:  2.0223582\n",
      "iter_num 18700  train_loss: 1.9152423 , test_loss:  2.0252147\n",
      "iter_num 18800  train_loss: 2.0660434 , test_loss:  2.0319166\n",
      "iter_num 18900  train_loss: 2.0512338 , test_loss:  2.0237126\n",
      "iter_num 19000  train_loss: 2.0632586 , test_loss:  2.011145\n",
      "iter_num 19100  train_loss: 2.0174282 , test_loss:  1.8748358\n",
      "iter_num 19200  train_loss: 1.9875358 , test_loss:  2.1117475\n",
      "iter_num 19300  train_loss: 2.1030128 , test_loss:  2.0738258\n",
      "iter_num 19400  train_loss: 2.0494928 , test_loss:  2.1002154\n",
      "iter_num 19500  train_loss: 2.0361173 , test_loss:  2.0064454\n",
      "iter_num 19600  train_loss: 2.0141826 , test_loss:  1.9974152\n",
      "iter_num 19700  train_loss: 2.0483925 , test_loss:  2.0149949\n",
      "iter_num 19800  train_loss: 2.1061802 , test_loss:  2.0655527\n",
      "iter_num 19900  train_loss: 1.9923731 , test_loss:  1.9564748\n",
      "iter_num 20000  train_loss: 2.084839 , test_loss:  1.9907515\n"
     ]
    }
   ],
   "source": [
    "trainer.run()"
   ]
  },
  {
   "cell_type": "code",
   "execution_count": 14,
   "metadata": {},
   "outputs": [
    {
     "data": {
      "text/plain": [
       "20000"
      ]
     },
     "execution_count": 14,
     "metadata": {},
     "output_type": "execute_result"
    }
   ],
   "source": [
    "trainer.iter_num"
   ]
  },
  {
   "cell_type": "code",
   "execution_count": 15,
   "metadata": {},
   "outputs": [],
   "source": [
    "dftrain = pd.DataFrame(trainer.train_losses)\n",
    "dftrain.columns = ['batches','loss']\n",
    "\n",
    "dftest = pd.DataFrame(trainer.test_losses)\n",
    "dftest.columns = ['batches','loss']"
   ]
  },
  {
   "cell_type": "code",
   "execution_count": 16,
   "metadata": {},
   "outputs": [
    {
     "data": {
      "text/plain": [
       "<matplotlib.legend.Legend at 0x7355c1c66a70>"
      ]
     },
     "execution_count": 16,
     "metadata": {},
     "output_type": "execute_result"
    },
    {
     "data": {
      "image/png": "[encoded data removed]",
      "text/plain": [
       "<Figure size 640x480 with 1 Axes>"
      ]
     },
     "metadata": {},
     "output_type": "display_data"
    }
   ],
   "source": [
    "plt.plot(list(dftrain.batches), list(dftrain.loss))\n",
    "plt.plot(list(dftest.batches), list(dftest.loss))\n",
    "plt.legend(['train loss','test_loss'])"
   ]
  },
  {
   "cell_type": "code",
   "execution_count": null,
   "metadata": {},
   "outputs": [],
   "source": []
  },
  {
   "cell_type": "code",
   "execution_count": null,
   "metadata": {},
   "outputs": [],
   "source": []
  }
 ],
 "metadata": {
  "kernelspec": {
   "display_name": "Python 3 (ipykernel)",
   "language": "python",
   "name": "python3"
  },
  "language_info": {
   "codemirror_mode": {
    "name": "ipython",
    "version": 3
   },
   "file_extension": ".py",
   "mimetype": "text/x-python",
   "name": "python",
   "nbconvert_exporter": "python",
   "pygments_lexer": "ipython3",
   "version": "3.10.12"
  },
  "vscode": {
   "interpreter": {
    "hash": "3ad933181bd8a04b432d3370b9dc3b0662ad032c4dfaa4e4f1596c548f763858"
   }
  }
 },
 "nbformat": 4,
 "nbformat_minor": 4
}
