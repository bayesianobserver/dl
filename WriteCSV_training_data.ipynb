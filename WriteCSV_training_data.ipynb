{
 "cells": [
  {
   "cell_type": "code",
   "execution_count": 1,
   "id": "0cf58db4-78cd-4bf1-b253-c3ed903f7e20",
   "metadata": {},
   "outputs": [],
   "source": [
    "import torch\n",
    "import torch.nn as nn\n",
    "import torch\n",
    "from torch.utils.data import Dataset\n",
    "from torch.utils.data.dataloader import DataLoader\n",
    "from utils import set_seed\n",
    "set_seed(3407)\n",
    "import numpy as np\n",
    "import pylab as plt\n",
    "import pandas as pd"
   ]
  },
  {
   "cell_type": "code",
   "execution_count": 9,
   "id": "de031a76-6250-4da1-a1ab-3cc10f555291",
   "metadata": {},
   "outputs": [],
   "source": [
    "\n",
    "class TabularRegressionData(Dataset):\n",
    "    \"\"\" \n",
    "    Simple tabular data with 5 numerical features and 1 numerical response. \n",
    "    \"\"\"\n",
    "\n",
    "    def __init__(self, split, dimensions = 5):\n",
    "        assert split in {'train', 'test'}\n",
    "        self.split = split\n",
    "        self.dimensions = dimensions\n",
    "        \n",
    "    def __len__(self):\n",
    "        return 10000 # ...\n",
    "    \n",
    "    def __getitem__(self, idx):\n",
    "        x = torch.randn(5)\n",
    "        y = x[0] + (2 * x[2] * x[3]) - 3 * (x[4]**2)\n",
    "        x, y\n",
    "        return x, y\n"
   ]
  },
  {
   "cell_type": "code",
   "execution_count": 31,
   "id": "58e6501e-e569-4bb0-8420-846d4930133d",
   "metadata": {},
   "outputs": [],
   "source": [
    "train_dataset = TabularRegressionData('train')"
   ]
  },
  {
   "cell_type": "code",
   "execution_count": 32,
   "id": "a25d830d-c8a7-4ee9-9631-f1ea9cb3ccff",
   "metadata": {},
   "outputs": [
    {
     "data": {
      "text/plain": [
       "10000"
      ]
     },
     "execution_count": 32,
     "metadata": {},
     "output_type": "execute_result"
    }
   ],
   "source": [
    "len(train_dataset)"
   ]
  },
  {
   "cell_type": "code",
   "execution_count": 20,
   "id": "81f49ea0-f99b-49fa-a798-018786bdba41",
   "metadata": {},
   "outputs": [
    {
     "data": {
      "text/plain": [
       "[tensor([-0.0572, -0.6023, -0.7835, -1.5824,  0.3470]),\n",
       " tensor([-0.8811,  0.3876, -0.8624,  0.1805,  2.6876])]"
      ]
     },
     "execution_count": 20,
     "metadata": {},
     "output_type": "execute_result"
    }
   ],
   "source": [
    "a[0:2]"
   ]
  },
  {
   "cell_type": "code",
   "execution_count": 19,
   "id": "fceb1689-5dab-4a31-9e2d-23b0636f1e50",
   "metadata": {},
   "outputs": [
    {
     "data": {
      "text/plain": [
       "[tensor([ 0.4732, -0.4179, -0.6070,  0.6187,  1.1693]),\n",
       " tensor([-0.3129,  0.7711,  2.0007,  0.8142, -0.3442]),\n",
       " tensor([ 0.0868, -0.2618, -0.4838, -0.3490, -1.2614]),\n",
       " tensor([ 0.1804,  0.4496,  1.9308, -0.0606, -0.0668])]"
      ]
     },
     "execution_count": 19,
     "metadata": {},
     "output_type": "execute_result"
    }
   ],
   "source": [
    "a[9999:10003]"
   ]
  },
  {
   "cell_type": "code",
   "execution_count": 56,
   "id": "460cf3e4-f4a7-4364-bc54-c7bdf6acc485",
   "metadata": {},
   "outputs": [],
   "source": [
    "a = []\n",
    "b = []\n",
    "for (x,y) in train_dataset: \n",
    "    a.append(np.array(x))\n",
    "    b.append(y.item())\n",
    "    if len(a) >= 10000: \n",
    "        break\n",
    "df = pd.DataFrame(a)\n",
    "df.columns = ['x0','x1','x2','x3','x4']\n",
    "df['y'] = b"
   ]
  },
  {
   "cell_type": "code",
   "execution_count": 58,
   "id": "ecf3d6be-5dee-4f20-9d52-5bffd65b9e2d",
   "metadata": {},
   "outputs": [
    {
     "data": {
      "text/html": [
       "<div>\n",
       "<style scoped>\n",
       "    .dataframe tbody tr th:only-of-type {\n",
       "        vertical-align: middle;\n",
       "    }\n",
       "\n",
       "    .dataframe tbody tr th {\n",
       "        vertical-align: top;\n",
       "    }\n",
       "\n",
       "    .dataframe thead th {\n",
       "        text-align: right;\n",
       "    }\n",
       "</style>\n",
       "<table border=\"1\" class=\"dataframe\">\n",
       "  <thead>\n",
       "    <tr style=\"text-align: right;\">\n",
       "      <th></th>\n",
       "      <th>x0</th>\n",
       "      <th>x1</th>\n",
       "      <th>x2</th>\n",
       "      <th>x3</th>\n",
       "      <th>x4</th>\n",
       "      <th>y</th>\n",
       "    </tr>\n",
       "  </thead>\n",
       "  <tbody>\n",
       "    <tr>\n",
       "      <th>0</th>\n",
       "      <td>1.666430</td>\n",
       "      <td>0.595244</td>\n",
       "      <td>-0.161818</td>\n",
       "      <td>-0.467741</td>\n",
       "      <td>-0.235234</td>\n",
       "      <td>1.651802</td>\n",
       "    </tr>\n",
       "    <tr>\n",
       "      <th>1</th>\n",
       "      <td>-0.000772</td>\n",
       "      <td>1.050795</td>\n",
       "      <td>0.863816</td>\n",
       "      <td>0.318068</td>\n",
       "      <td>-0.040953</td>\n",
       "      <td>0.543701</td>\n",
       "    </tr>\n",
       "    <tr>\n",
       "      <th>2</th>\n",
       "      <td>-2.715449</td>\n",
       "      <td>-0.828094</td>\n",
       "      <td>1.756049</td>\n",
       "      <td>-0.687920</td>\n",
       "      <td>-0.415605</td>\n",
       "      <td>-5.649674</td>\n",
       "    </tr>\n",
       "    <tr>\n",
       "      <th>3</th>\n",
       "      <td>-0.405523</td>\n",
       "      <td>-0.009845</td>\n",
       "      <td>-2.316641</td>\n",
       "      <td>0.163378</td>\n",
       "      <td>-1.674237</td>\n",
       "      <td>-9.571711</td>\n",
       "    </tr>\n",
       "    <tr>\n",
       "      <th>4</th>\n",
       "      <td>-1.646876</td>\n",
       "      <td>0.072499</td>\n",
       "      <td>0.015248</td>\n",
       "      <td>-0.978387</td>\n",
       "      <td>-1.183165</td>\n",
       "      <td>-5.876352</td>\n",
       "    </tr>\n",
       "  </tbody>\n",
       "</table>\n",
       "</div>"
      ],
      "text/plain": [
       "         x0        x1        x2        x3        x4         y\n",
       "0  1.666430  0.595244 -0.161818 -0.467741 -0.235234  1.651802\n",
       "1 -0.000772  1.050795  0.863816  0.318068 -0.040953  0.543701\n",
       "2 -2.715449 -0.828094  1.756049 -0.687920 -0.415605 -5.649674\n",
       "3 -0.405523 -0.009845 -2.316641  0.163378 -1.674237 -9.571711\n",
       "4 -1.646876  0.072499  0.015248 -0.978387 -1.183165 -5.876352"
      ]
     },
     "execution_count": 58,
     "metadata": {},
     "output_type": "execute_result"
    }
   ],
   "source": [
    "df.head()"
   ]
  },
  {
   "cell_type": "code",
   "execution_count": 59,
   "id": "5d5b3b96-ff9d-4496-ba60-733573ee83a7",
   "metadata": {},
   "outputs": [],
   "source": [
    "df.to_csv(\"/home/suhas/research/dl/training_data.txt\", index = False)"
   ]
  },
  {
   "cell_type": "code",
   "execution_count": null,
   "id": "f9b58f0b-734f-4468-9a20-54e9441822cb",
   "metadata": {},
   "outputs": [],
   "source": []
  },
  {
   "cell_type": "code",
   "execution_count": null,
   "id": "9f983155-a289-4a8d-8da7-8bd6be1d57c9",
   "metadata": {},
   "outputs": [],
   "source": []
  },
  {
   "cell_type": "code",
   "execution_count": 12,
   "id": "c6e27be7-fe1d-484d-a1fa-7874e61408d3",
   "metadata": {},
   "outputs": [
    {
     "ename": "AttributeError",
     "evalue": "'TabularRegressionData' object has no attribute 'to_csv'",
     "output_type": "error",
     "traceback": [
      "\u001b[0;31m---------------------------------------------------------------------------\u001b[0m",
      "\u001b[0;31mAttributeError\u001b[0m                            Traceback (most recent call last)",
      "Cell \u001b[0;32mIn[12], line 1\u001b[0m\n\u001b[0;32m----> 1\u001b[0m \u001b[43mtrain_dataset\u001b[49m\u001b[38;5;241;43m.\u001b[39;49m\u001b[43mto_csv\u001b[49m(\u001b[38;5;124m\"\u001b[39m\u001b[38;5;124m/home/suhas/research/dl/training.txt\u001b[39m\u001b[38;5;124m\"\u001b[39m)\n",
      "\u001b[0;31mAttributeError\u001b[0m: 'TabularRegressionData' object has no attribute 'to_csv'"
     ]
    }
   ],
   "source": [
    "train_dataset.to_csv(\"/home/suhas/research/dl/training.txt\")"
   ]
  },
  {
   "cell_type": "code",
   "execution_count": 17,
   "id": "ffc4255e-6cc9-4a39-9a1e-ad9e00cf02f7",
   "metadata": {},
   "outputs": [
    {
     "name": "stderr",
     "output_type": "stream",
     "text": [
      "2024-04-30 15:14:26.613696: I tensorflow/core/platform/cpu_feature_guard.cc:193] This TensorFlow binary is optimized with oneAPI Deep Neural Network Library (oneDNN) to use the following CPU instructions in performance-critical operations:  AVX2 FMA\n",
      "To enable them in other operations, rebuild TensorFlow with the appropriate compiler flags.\n",
      "2024-04-30 15:14:26.775150: W tensorflow/compiler/xla/stream_executor/platform/default/dso_loader.cc:64] Could not load dynamic library 'libcudart.so.11.0'; dlerror: libcudart.so.11.0: cannot open shared object file: No such file or directory\n",
      "2024-04-30 15:14:26.775173: I tensorflow/compiler/xla/stream_executor/cuda/cudart_stub.cc:29] Ignore above cudart dlerror if you do not have a GPU set up on your machine.\n",
      "2024-04-30 15:14:27.413704: W tensorflow/compiler/xla/stream_executor/platform/default/dso_loader.cc:64] Could not load dynamic library 'libnvinfer.so.7'; dlerror: libnvinfer.so.7: cannot open shared object file: No such file or directory\n",
      "2024-04-30 15:14:27.413758: W tensorflow/compiler/xla/stream_executor/platform/default/dso_loader.cc:64] Could not load dynamic library 'libnvinfer_plugin.so.7'; dlerror: libnvinfer_plugin.so.7: cannot open shared object file: No such file or directory\n",
      "2024-04-30 15:14:27.413765: W tensorflow/compiler/tf2tensorrt/utils/py_utils.cc:38] TF-TRT Warning: Cannot dlopen some TensorRT libraries. If you would like to use Nvidia GPU with TensorRT, please make sure the missing libraries mentioned above are installed properly.\n"
     ]
    }
   ],
   "source": [
    "import torch\n",
    "from torch.utils.data import Dataset\n",
    "from torch.utils.data.dataloader import DataLoader\n",
    "from utils import set_seed\n",
    "import sys\n",
    "set_seed(3407)\n",
    "import pylab as plt\n",
    "import pandas as pd\n",
    "from torch.utils.tensorboard import SummaryWriter\n",
    "writer = SummaryWriter()"
   ]
  },
  {
   "cell_type": "code",
   "execution_count": 20,
   "id": "ce3b79f8-38ec-4795-a9e8-cf596652c351",
   "metadata": {},
   "outputs": [],
   "source": [
    "import pickle\n",
    "\n",
    "class TabularRegressionData(Dataset):\n",
    "    \"\"\" \n",
    "    Simple tabular data with 5 numerical features and 1 numerical response. \n",
    "    \"\"\"\n",
    "\n",
    "    def __init__(self, split, dimensions = 5):\n",
    "        assert split in {'train', 'test'}\n",
    "        self.split = split\n",
    "        self.dimensions = dimensions\n",
    "        \n",
    "    def __len__(self):\n",
    "        return 10000 # ...\n",
    "    \n",
    "    def __getitem__(self, idx):\n",
    "        x = torch.randn(5)\n",
    "        y = -3.15 + x[0] + (2 * x[2] * x[3]) - 3 * (x[4]**3)\n",
    "        w = torch.rand(1)\n",
    "        return x, y, w\n"
   ]
  },
  {
   "cell_type": "code",
   "execution_count": 22,
   "id": "544e1187-0fd9-411e-867e-32a2a6da8d77",
   "metadata": {},
   "outputs": [
    {
     "name": "stdout",
     "output_type": "stream",
     "text": [
      "tensor([ 0.1052, -1.2552, -0.1762,  0.5020, -0.2873]) tensor(-3.1506) tensor([0.6665])\n"
     ]
    }
   ],
   "source": [
    "# print an example instance of the dataset\n",
    "train_dataset = TabularRegressionData('train')\n",
    "test_dataset = TabularRegressionData('test')\n",
    "x, y, w = train_dataset[0]\n",
    "print(x, y, w)\n"
   ]
  },
  {
   "cell_type": "code",
   "execution_count": 25,
   "id": "23696339-35f0-44ec-bedc-a4c9969e98a9",
   "metadata": {},
   "outputs": [],
   "source": [
    "x = torch.rand(size = (2, 3))"
   ]
  },
  {
   "cell_type": "code",
   "execution_count": 26,
   "id": "7418ac1e-1e22-4bce-8997-7ced8a4e6e05",
   "metadata": {},
   "outputs": [
    {
     "data": {
      "text/plain": [
       "tensor([[0.2209, 0.0954, 0.9996],\n",
       "        [0.1764, 0.3382, 0.0200]])"
      ]
     },
     "execution_count": 26,
     "metadata": {},
     "output_type": "execute_result"
    }
   ],
   "source": [
    "x"
   ]
  },
  {
   "cell_type": "code",
   "execution_count": 27,
   "id": "28b2b5b8-6df6-4362-b19d-fb6069641229",
   "metadata": {},
   "outputs": [
    {
     "data": {
      "text/plain": [
       "torch.Size([2, 3])"
      ]
     },
     "execution_count": 27,
     "metadata": {},
     "output_type": "execute_result"
    }
   ],
   "source": [
    "x.shape"
   ]
  },
  {
   "cell_type": "code",
   "execution_count": 29,
   "id": "c224c2ad-00a7-4eef-bf0d-75d1391ece5d",
   "metadata": {},
   "outputs": [
    {
     "data": {
      "text/plain": [
       "torch.Size([2, 3])"
      ]
     },
     "execution_count": 29,
     "metadata": {},
     "output_type": "execute_result"
    }
   ],
   "source": [
    "x.size()"
   ]
  },
  {
   "cell_type": "code",
   "execution_count": 30,
   "id": "bcd2c588-e007-4536-b04d-3d4654abc197",
   "metadata": {},
   "outputs": [],
   "source": []
  },
  {
   "cell_type": "code",
   "execution_count": 31,
   "id": "7a99293f-1f11-4e85-b8dd-fb5df9787029",
   "metadata": {},
   "outputs": [
    {
     "data": {
      "text/plain": [
       "tensor([[1., 1., 1.],\n",
       "        [1., 1., 1.]])"
      ]
     },
     "execution_count": 31,
     "metadata": {},
     "output_type": "execute_result"
    }
   ],
   "source": [
    "y"
   ]
  },
  {
   "cell_type": "code",
   "execution_count": null,
   "id": "eb3c475f-a797-4925-8b6d-305a9669ecde",
   "metadata": {},
   "outputs": [],
   "source": []
  }
 ],
 "metadata": {
  "kernelspec": {
   "display_name": "Python 3 (ipykernel)",
   "language": "python",
   "name": "python3"
  },
  "language_info": {
   "codemirror_mode": {
    "name": "ipython",
    "version": 3
   },
   "file_extension": ".py",
   "mimetype": "text/x-python",
   "name": "python",
   "nbconvert_exporter": "python",
   "pygments_lexer": "ipython3",
   "version": "3.10.12"
  }
 },
 "nbformat": 4,
 "nbformat_minor": 5
}
