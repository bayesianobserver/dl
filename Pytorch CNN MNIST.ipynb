{
 "cells": [
  {
   "cell_type": "code",
   "execution_count": 254,
   "id": "b371468f-74e8-4341-80e7-5014d7e082c2",
   "metadata": {},
   "outputs": [],
   "source": [
    "import torch\n",
    "import torchvision\n",
    "from torch.utils.data import DataLoader \n",
    "import pylab as plt\n",
    "import torch.nn as nn\n",
    "import torch.nn.functional as F"
   ]
  },
  {
   "cell_type": "code",
   "execution_count": 255,
   "id": "04d1096f-3872-4b99-a9cf-baaadf895d3f",
   "metadata": {},
   "outputs": [],
   "source": [
    "# Download the dataset"
   ]
  },
  {
   "cell_type": "code",
   "execution_count": 332,
   "id": "443bd8ce-ef06-419b-9aa7-1a52fef52b39",
   "metadata": {},
   "outputs": [],
   "source": [
    "from torchvision import transforms\n",
    "\n",
    "transform = transforms.Compose([\n",
    "    transforms.ToTensor(),\n",
    "])"
   ]
  },
  {
   "cell_type": "code",
   "execution_count": 333,
   "id": "66a5462e-403d-4644-a7b1-57f9d27fe0b2",
   "metadata": {},
   "outputs": [],
   "source": [
    "dataset_train = torchvision.datasets.MNIST(root = '/home/suhas/research/pytorch/data/mnist', download = True, transform = transform)\n",
    "dataset_test = torchvision.datasets.MNIST(root = '/home/suhas/research/pytorch/data/mnist', download = True, train = False, transform = transform)"
   ]
  },
  {
   "cell_type": "code",
   "execution_count": 334,
   "id": "80c0a42a-a4a3-4109-b16b-9c6e778114e9",
   "metadata": {},
   "outputs": [
    {
     "data": {
      "text/plain": [
       "(60000, 10000)"
      ]
     },
     "execution_count": 334,
     "metadata": {},
     "output_type": "execute_result"
    }
   ],
   "source": [
    "len(dataset_train), len(dataset_test)"
   ]
  },
  {
   "cell_type": "code",
   "execution_count": 335,
   "id": "b9aed8ed-a623-4d1f-8fca-f85500bd45c7",
   "metadata": {},
   "outputs": [],
   "source": [
    "dl_train = DataLoader(dataset_train, batch_size = 300, shuffle = True)\n",
    "dl_test = DataLoader(dataset_test, batch_size = 200, shuffle = True)"
   ]
  },
  {
   "cell_type": "code",
   "execution_count": 336,
   "id": "0bddf7ef-5d40-472c-b2b1-23054ba268bc",
   "metadata": {},
   "outputs": [],
   "source": [
    "\n",
    "class Net(nn.Module):\n",
    "    def __init__(self):\n",
    "        super(Net, self).__init__()\n",
    "        self.conv1 = nn.Conv2d(1, 32, 3, 1)\n",
    "        self.conv2 = nn.Conv2d(32, 64, 3, 1)\n",
    "        self.dropout1 = nn.Dropout(0.25)\n",
    "        self.dropout2 = nn.Dropout(0.5)\n",
    "        self.fc1 = nn.Linear(9216, 128)\n",
    "        self.fc2 = nn.Linear(128, 10)\n",
    "\n",
    "    def forward(self, x):\n",
    "        x = self.conv1(x)\n",
    "        x = F.relu(x)\n",
    "        x = self.conv2(x)\n",
    "        x = F.relu(x)\n",
    "        x = F.max_pool2d(x, 2)\n",
    "        x = self.dropout1(x)\n",
    "        x = torch.flatten(x, 1)\n",
    "        x = self.fc1(x)\n",
    "        x = F.relu(x)\n",
    "        x = self.dropout2(x)\n",
    "        x = self.fc2(x)\n",
    "        output = F.log_softmax(x, dim=1)\n",
    "        return output\n"
   ]
  },
  {
   "cell_type": "code",
   "execution_count": 338,
   "id": "49d3ab21-43ec-463e-8406-28499474014a",
   "metadata": {},
   "outputs": [],
   "source": [
    "class mnistModel(nn.Module):\n",
    "    def __init__(self):\n",
    "        super().__init__()\n",
    "        self.conv1 = nn.Conv2d(in_channels = 1, out_channels = 2, kernel_size = 2, stride = 2)\n",
    "        self.maxpool1 = nn.MaxPool2d(kernel_size = 2, stride = 2)\n",
    "        self.conv2 = nn.Conv2d(in_channels = 2, out_channels = 1, kernel_size = 2, stride = 1)\n",
    "        self.maxpool2 = nn.MaxPool2d(kernel_size = 2, stride = 1)\n",
    "        self.linear = nn.Linear(25, 10)\n",
    "        self.relu = nn.ReLU()\n",
    "\n",
    "    def forward(self, x):\n",
    "        x = self.conv1(x)\n",
    "        x = self.maxpool1(x)\n",
    "        x = self.conv2(x)\n",
    "        x = self.maxpool2(x)\n",
    "        x = x.flatten(1)\n",
    "        x = self.linear(x)\n",
    "        x = self.relu(x)\n",
    "        return x"
   ]
  },
  {
   "cell_type": "code",
   "execution_count": 339,
   "id": "5c229fc5-55ef-4962-abde-7b061fa072c7",
   "metadata": {},
   "outputs": [],
   "source": [
    "# Define the model, the loss function and the optimizer\n",
    "model = Net()\n",
    "loss_func = nn.NLLLoss()\n",
    "optimizer = torch.optim.SGD(model.parameters())"
   ]
  },
  {
   "cell_type": "code",
   "execution_count": 369,
   "id": "654a018d-6c4a-4e45-b837-9eeeb47587c2",
   "metadata": {},
   "outputs": [
    {
     "name": "stdout",
     "output_type": "stream",
     "text": [
      "0 2.1926429271698 2.2029221057891846 0.6399999856948853\n",
      "1 2.122760772705078 2.1155343055725098 0.675000011920929\n",
      "2 2.0006821155548096 2.0369884967803955 0.6650000214576721\n",
      "3 1.7833932638168335 1.817724585533142 0.7549999952316284\n",
      "4 1.455471158027649 1.561803936958313 0.7900000214576721\n",
      "5 1.1074920892715454 1.2010411024093628 0.7950000166893005\n",
      "6 0.8571884632110596 1.0089948177337646 0.8299999833106995\n",
      "7 0.7032543420791626 0.9101952314376831 0.875\n",
      "8 0.6078070998191833 0.7502356767654419 0.8149999976158142\n",
      "9 0.5443054437637329 0.760055661201477 0.8550000190734863\n",
      "10 0.4988960921764374 0.5522511005401611 0.875\n",
      "11 0.46417751908302307 0.6225759387016296 0.8999999761581421\n",
      "12 0.4385671317577362 0.657427191734314 0.8799999952316284\n",
      "13 0.4173664450645447 0.5139011740684509 0.8899999856948853\n",
      "14 0.39942967891693115 0.5732272267341614 0.9200000166893005\n",
      "15 0.38443127274513245 0.48822829127311707 0.9350000023841858\n",
      "16 0.3719990849494934 0.48456665873527527 0.8899999856948853\n",
      "17 0.3620283901691437 0.5729354619979858 0.9100000262260437\n",
      "18 0.3523315489292145 0.5383890867233276 0.8849999904632568\n",
      "19 0.3428800106048584 0.456175833940506 0.9100000262260437\n",
      "20 0.3346600830554962 0.4823557436466217 0.8949999809265137\n",
      "21 0.3272794783115387 0.42640307545661926 0.8999999761581421\n",
      "22 0.3211016356945038 0.376026451587677 0.9399999976158142\n",
      "23 0.31458190083503723 0.4868325889110565 0.9350000023841858\n",
      "24 0.30780860781669617 0.45616912841796875 0.8999999761581421\n",
      "25 0.30242106318473816 0.3424728214740753 0.9150000214576721\n",
      "26 0.29726168513298035 0.40025272965431213 0.9200000166893005\n",
      "27 0.29174599051475525 0.4577290415763855 0.8849999904632568\n",
      "28 0.2870662212371826 0.3893049359321594 0.8849999904632568\n",
      "29 0.2824626564979553 0.4083784222602844 0.9100000262260437\n",
      "30 0.27836495637893677 0.40879589319229126 0.9350000023841858\n",
      "31 0.2725575864315033 0.44697457551956177 0.9300000071525574\n",
      "32 0.2701024115085602 0.3633855879306793 0.8999999761581421\n",
      "33 0.26460322737693787 0.31614208221435547 0.9449999928474426\n"
     ]
    },
    {
     "ename": "KeyboardInterrupt",
     "evalue": "",
     "output_type": "error",
     "traceback": [
      "\u001b[0;31m---------------------------------------------------------------------------\u001b[0m",
      "\u001b[0;31mKeyboardInterrupt\u001b[0m                         Traceback (most recent call last)",
      "Cell \u001b[0;32mIn[369], line 13\u001b[0m\n\u001b[1;32m     11\u001b[0m     train_loss \u001b[38;5;241m=\u001b[39m F\u001b[38;5;241m.\u001b[39mnll_loss(preds, yb)\n\u001b[1;32m     12\u001b[0m     optimizer\u001b[38;5;241m.\u001b[39mzero_grad()\n\u001b[0;32m---> 13\u001b[0m     \u001b[43mtrain_loss\u001b[49m\u001b[38;5;241;43m.\u001b[39;49m\u001b[43mbackward\u001b[49m\u001b[43m(\u001b[49m\u001b[43m)\u001b[49m\n\u001b[1;32m     14\u001b[0m     optimizer\u001b[38;5;241m.\u001b[39mstep()\n\u001b[1;32m     16\u001b[0m model\u001b[38;5;241m.\u001b[39meval()\n",
      "File \u001b[0;32m~/.local/lib/python3.10/site-packages/torch/_tensor.py:522\u001b[0m, in \u001b[0;36mTensor.backward\u001b[0;34m(self, gradient, retain_graph, create_graph, inputs)\u001b[0m\n\u001b[1;32m    512\u001b[0m \u001b[38;5;28;01mif\u001b[39;00m has_torch_function_unary(\u001b[38;5;28mself\u001b[39m):\n\u001b[1;32m    513\u001b[0m     \u001b[38;5;28;01mreturn\u001b[39;00m handle_torch_function(\n\u001b[1;32m    514\u001b[0m         Tensor\u001b[38;5;241m.\u001b[39mbackward,\n\u001b[1;32m    515\u001b[0m         (\u001b[38;5;28mself\u001b[39m,),\n\u001b[0;32m   (...)\u001b[0m\n\u001b[1;32m    520\u001b[0m         inputs\u001b[38;5;241m=\u001b[39minputs,\n\u001b[1;32m    521\u001b[0m     )\n\u001b[0;32m--> 522\u001b[0m \u001b[43mtorch\u001b[49m\u001b[38;5;241;43m.\u001b[39;49m\u001b[43mautograd\u001b[49m\u001b[38;5;241;43m.\u001b[39;49m\u001b[43mbackward\u001b[49m\u001b[43m(\u001b[49m\n\u001b[1;32m    523\u001b[0m \u001b[43m    \u001b[49m\u001b[38;5;28;43mself\u001b[39;49m\u001b[43m,\u001b[49m\u001b[43m \u001b[49m\u001b[43mgradient\u001b[49m\u001b[43m,\u001b[49m\u001b[43m \u001b[49m\u001b[43mretain_graph\u001b[49m\u001b[43m,\u001b[49m\u001b[43m \u001b[49m\u001b[43mcreate_graph\u001b[49m\u001b[43m,\u001b[49m\u001b[43m \u001b[49m\u001b[43minputs\u001b[49m\u001b[38;5;241;43m=\u001b[39;49m\u001b[43minputs\u001b[49m\n\u001b[1;32m    524\u001b[0m \u001b[43m\u001b[49m\u001b[43m)\u001b[49m\n",
      "File \u001b[0;32m~/.local/lib/python3.10/site-packages/torch/autograd/__init__.py:266\u001b[0m, in \u001b[0;36mbackward\u001b[0;34m(tensors, grad_tensors, retain_graph, create_graph, grad_variables, inputs)\u001b[0m\n\u001b[1;32m    261\u001b[0m     retain_graph \u001b[38;5;241m=\u001b[39m create_graph\n\u001b[1;32m    263\u001b[0m \u001b[38;5;66;03m# The reason we repeat the same comment below is that\u001b[39;00m\n\u001b[1;32m    264\u001b[0m \u001b[38;5;66;03m# some Python versions print out the first line of a multi-line function\u001b[39;00m\n\u001b[1;32m    265\u001b[0m \u001b[38;5;66;03m# calls in the traceback and some print out the last line\u001b[39;00m\n\u001b[0;32m--> 266\u001b[0m \u001b[43mVariable\u001b[49m\u001b[38;5;241;43m.\u001b[39;49m\u001b[43m_execution_engine\u001b[49m\u001b[38;5;241;43m.\u001b[39;49m\u001b[43mrun_backward\u001b[49m\u001b[43m(\u001b[49m\u001b[43m  \u001b[49m\u001b[38;5;66;43;03m# Calls into the C++ engine to run the backward pass\u001b[39;49;00m\n\u001b[1;32m    267\u001b[0m \u001b[43m    \u001b[49m\u001b[43mtensors\u001b[49m\u001b[43m,\u001b[49m\n\u001b[1;32m    268\u001b[0m \u001b[43m    \u001b[49m\u001b[43mgrad_tensors_\u001b[49m\u001b[43m,\u001b[49m\n\u001b[1;32m    269\u001b[0m \u001b[43m    \u001b[49m\u001b[43mretain_graph\u001b[49m\u001b[43m,\u001b[49m\n\u001b[1;32m    270\u001b[0m \u001b[43m    \u001b[49m\u001b[43mcreate_graph\u001b[49m\u001b[43m,\u001b[49m\n\u001b[1;32m    271\u001b[0m \u001b[43m    \u001b[49m\u001b[43minputs\u001b[49m\u001b[43m,\u001b[49m\n\u001b[1;32m    272\u001b[0m \u001b[43m    \u001b[49m\u001b[43mallow_unreachable\u001b[49m\u001b[38;5;241;43m=\u001b[39;49m\u001b[38;5;28;43;01mTrue\u001b[39;49;00m\u001b[43m,\u001b[49m\n\u001b[1;32m    273\u001b[0m \u001b[43m    \u001b[49m\u001b[43maccumulate_grad\u001b[49m\u001b[38;5;241;43m=\u001b[39;49m\u001b[38;5;28;43;01mTrue\u001b[39;49;00m\u001b[43m,\u001b[49m\n\u001b[1;32m    274\u001b[0m \u001b[43m\u001b[49m\u001b[43m)\u001b[49m\n",
      "\u001b[0;31mKeyboardInterrupt\u001b[0m: "
     ]
    }
   ],
   "source": [
    "# Define a training-validation loop\n",
    "epochs = 100\n",
    "val_losses = []\n",
    "train_losses = []\n",
    "val_accuracy = []\n",
    "for epoch in range(epochs): \n",
    "    model.train()\n",
    "    for xb, yb in dl_train:\n",
    "        xb = xb.float()\n",
    "        preds = model(xb)\n",
    "        train_loss = F.nll_loss(preds, yb)\n",
    "        optimizer.zero_grad()\n",
    "        train_loss.backward()\n",
    "        optimizer.step()\n",
    "\n",
    "    model.eval()\n",
    "    with torch.inference_mode():\n",
    "        valid_loss = 0\n",
    "        for xv, yv in dl_test:\n",
    "            valid_preds = model(xv.float())\n",
    "            valid_loss += loss_func(valid_preds, yv)\n",
    "        valid_loss = valid_loss / len(dl_test)\n",
    "        accuracy = ((valid_preds.argmax(dim = 1) == yv).sum()/len(yv)).item()\n",
    "        print(epoch, valid_loss.item(), train_loss.item(), accuracy)\n",
    "        val_losses.append(valid_loss.item())\n",
    "        train_losses.append(train_loss.item())\n",
    "        val_accuracy.append(accuracy)"
   ]
  },
  {
   "cell_type": "code",
   "execution_count": 378,
   "id": "549565fc-75af-4165-9c18-42bba85a2852",
   "metadata": {},
   "outputs": [],
   "source": [
    "import pandas as pd\n",
    "import numpy as np"
   ]
  },
  {
   "cell_type": "code",
   "execution_count": 375,
   "id": "b000ff94-099f-425d-94e4-6fbfb42e82c3",
   "metadata": {},
   "outputs": [],
   "source": [
    "dftrain = pd.read_csv(\"/home/suhas/Downloads/D1_Project_train.csv\")"
   ]
  },
  {
   "cell_type": "code",
   "execution_count": 379,
   "id": "a2a235ab-2137-4923-bdb6-b854dc1501c2",
   "metadata": {},
   "outputs": [
    {
     "data": {
      "text/plain": [
       "90000"
      ]
     },
     "execution_count": 379,
     "metadata": {},
     "output_type": "execute_result"
    }
   ],
   "source": [
    "len(dftrain)"
   ]
  },
  {
   "cell_type": "code",
   "execution_count": 380,
   "id": "afaaf8a5-e281-4e1b-bbb8-d77a3df5071d",
   "metadata": {},
   "outputs": [
    {
     "data": {
      "text/plain": [
       "0.007455566382398637"
      ]
     },
     "execution_count": 380,
     "metadata": {},
     "output_type": "execute_result"
    }
   ],
   "source": [
    "np.std(dftrain.TARGET)"
   ]
  },
  {
   "cell_type": "code",
   "execution_count": 382,
   "id": "ff97466f-d027-49f4-9707-5b937dc52be5",
   "metadata": {},
   "outputs": [
    {
     "data": {
      "text/plain": [
       "-1.7849832934444285e-05"
      ]
     },
     "execution_count": 382,
     "metadata": {},
     "output_type": "execute_result"
    }
   ],
   "source": [
    "np.mean(dftrain.TARGET)"
   ]
  },
  {
   "cell_type": "code",
   "execution_count": 383,
   "id": "e21d4864-4587-43aa-97e3-37f9b96828f2",
   "metadata": {},
   "outputs": [
    {
     "data": {
      "text/plain": [
       "'2.2.0+cu121'"
      ]
     },
     "execution_count": 383,
     "metadata": {},
     "output_type": "execute_result"
    }
   ],
   "source": [
    "torch.__version__"
   ]
  },
  {
   "cell_type": "code",
   "execution_count": null,
   "id": "4308b99a-8f88-4b0f-8381-8b27a58fb0d7",
   "metadata": {},
   "outputs": [],
   "source": []
  }
 ],
 "metadata": {
  "kernelspec": {
   "display_name": "Python 3 (ipykernel)",
   "language": "python",
   "name": "python3"
  },
  "language_info": {
   "codemirror_mode": {
    "name": "ipython",
    "version": 3
   },
   "file_extension": ".py",
   "mimetype": "text/x-python",
   "name": "python",
   "nbconvert_exporter": "python",
   "pygments_lexer": "ipython3",
   "version": "3.10.12"
  }
 },
 "nbformat": 4,
 "nbformat_minor": 5
}
